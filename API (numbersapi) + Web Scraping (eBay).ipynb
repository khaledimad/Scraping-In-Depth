{
 "cells": [
  {
   "cell_type": "markdown",
   "metadata": {},
   "source": [
    "# This project is divided into two parts:\n",
    "\n",
    "In the first, we will be trying out scraping using APIs.\n",
    "\n",
    "The second and more intricate part will be an in-depth scrape into e-bay's playstation 4 search pages in order to later using basic statistical analysis to examine which sellers advertise and sponsor on eBay."
   ]
  },
  {
   "cell_type": "markdown",
   "metadata": {},
   "source": [
    "## Part 1"
   ]
  },
  {
   "cell_type": "markdown",
   "metadata": {},
   "source": [
    "Go to http://numbersapi.com and familiarize yourself with the API.\n",
    "\n",
    "a) Write a program that accesses all trivia results for the numbers from 0 (zero) to 99 using batch requests only (One single query for all the numbers). Print the output result to the screen in the format of [3-digit number with leading zeros] - [TRIVIA] (One number per each line). E.g.,<br><br>\n",
    "000 - 0 is the coldest possible temperature old the Kelvin scale.<br>\n",
    "001 - 1 is the number of dimensions of a line.<br>\n",
    "002 - 2 is the price in cents per acre the USA bought Alaska from Russia."
   ]
  },
  {
   "cell_type": "code",
   "execution_count": 1,
   "metadata": {},
   "outputs": [],
   "source": [
    "# Begin by importing all required packages\n",
    "import requests\n",
    "import json"
   ]
  },
  {
   "cell_type": "code",
   "execution_count": 2,
   "metadata": {},
   "outputs": [],
   "source": [
    "# Create list of numbers from 000 to 099 with leading zeros\n",
    "numbers = list(range(100))\n",
    "numbers = [str(item) for item in numbers]\n",
    "numbers_leading_zeros = [str(item).zfill(3) for item in numbers]"
   ]
  },
  {
   "cell_type": "markdown",
   "metadata": {},
   "source": [
    "According to the api website, a number range (inclusive) is specified as min..max. Separate multiple ranges and individual numbers with a comma."
   ]
  },
  {
   "cell_type": "code",
   "execution_count": 3,
   "metadata": {},
   "outputs": [],
   "source": [
    "# Concatenating all numbers of the list and separating with a comma\n",
    "numbers_join = ','.join(numbers)\n",
    "\n",
    "# Now we create a URL in the same format the website has mentioned\n",
    "url = \"http://numbersapi.com/\"+numbers_join"
   ]
  },
  {
   "cell_type": "code",
   "execution_count": 4,
   "metadata": {},
   "outputs": [],
   "source": [
    "# Requesting the website's access to the server and storing the response\n",
    "response = requests.get(url)\n",
    "# Parsing the response\n",
    "trivia = json.loads(response.text)\n",
    "# Extracting values from dictionary\n",
    "trivia_values = list(trivia.values())"
   ]
  },
  {
   "cell_type": "code",
   "execution_count": 5,
   "metadata": {},
   "outputs": [
    {
     "name": "stdout",
     "output_type": "stream",
     "text": [
      "000 - 0 is the coldest possible temperature old the Kelvin scale.\n",
      "001 - 1 is the number of Gods in monotheism.\n",
      "002 - 2 is the first magic number in physics.\n",
      "003 - 3 is the number of novels or films in a trilogy and the number of interconnected works of art in a triptych.\n",
      "004 - 4 is the number of completed, numbered symphonies by Johannes Brahms.\n",
      "005 - 5 is the number of babies born in a quintuplet.\n",
      "006 - 6 is the number of symbolic foods placed on the Passover Seder Plate.\n",
      "007 - 7 is the number of days in a week.\n",
      "008 - 8 is the number of legs that arachnids have.\n",
      "009 - 9 is the number of circles of Hell in Dante's Divine Comedy.\n",
      "010 - 10 is the highest score possible in Olympics gymnastics competitions.\n",
      "011 - 11 is the miles per hours that the fastest moving land snake, the Black Mamba, can move.\n",
      "012 - 12 is the number of constellations in the ecliptic (or signs of the zodiac).\n",
      "013 - 13 is the number of loaves in a \"baker's dozen\".\n",
      "014 - 14 is the number of pieces the body of Osiris was torn into by his fratricidal brother Set.\n",
      "015 - 15 is the legal age for sexual intercourse in many countries.\n",
      "016 - 16 is the number of personality types in the Myers-Briggs classification system.\n",
      "017 - 17 is the minimum driving age for a car or van in the United Kingdom.\n",
      "018 - 18 is the number of chapters into which James Joyce's epic novel Ulysses is divided.\n",
      "019 - 19 is the number of years in 235 lunations.\n",
      "020 - 20 is the number of baby teeth in the deciduous dentition.\n",
      "021 - 21 is the number of points required to win a game in badminton and table tennis (before 2001).\n",
      "022 - 22 is the number of letters in the Hebrew alphabet.\n",
      "023 - 23 is the number of times Julius Caesar was stabbed.\n",
      "024 - 24 is the number of teams that participated in each FIFA World Cup finals tournament between 1982 and 1994.\n",
      "025 - 25 is the number of years of marriage marked in a silver wedding anniversary.\n",
      "026 - 26 is the number of red cards as well as the number of blue cards in a normal deck of cards.\n",
      "027 - 27 is the current number of Amendments to the United States Constitution (2012 February).\n",
      "028 - 28 is the number of days in the shortest month of the Gregorian calendar, February (except in leap years, when there are twenty-nine).\n",
      "029 - 29 is the highest possible score in a hand of Cribbage or Khanhoo.\n",
      "030 - 30 is the number of tracks on The Beatles' eponymous album, usually known as The White Album.\n",
      "031 - 31 is the number of days in the months January, March, May, July, August, October and December.\n",
      "032 - 32 is the number of rays in the Japanese Rising Sun on the cover of Incubus' 2006 album Light Grenades.\n",
      "033 - 33 is the temperature at which water boils according to the Newton scale.\n",
      "034 - 34 is the lucky number of Victor Pelevin's protagonist Stepan Mikhailov in the novel Numbers.\n",
      "035 - 35 is the minimum age of candidates for election to the United States Presidency.\n",
      "036 - 36 is the perfect score on the ACT.\n",
      "037 - 37 is the number of plays William Shakespeare is thought to have written (counting Henry IV as three parts).\n",
      "038 - 38 is the number of games that each team in the current English Premiership, the top division in English Association Football, plays in a season.\n",
      "039 - 39 is the number of signers to the United States Constitution, out of 55 members of the Philadelphia Convention delegates.\n",
      "040 - 40 is the number of years of marriage as the ruby wedding anniversary.\n",
      "041 - 41 is the number of times Paul McCartney sings the phrase \"Let It Be\" in the Beatles' hit Let It Be.\n",
      "042 - 42 is the result given by the web search engines Google, Wolfram Alpha and Bing when the query \"the answer to life the universe and everything\" is entered as a search.\n",
      "043 - 43 is the maximum number of cars participating in a NASCAR race in the Cup Series or Nationwide Series.\n",
      "044 - 44 is the number of candles in a box of Hanukkah candles.\n",
      "045 - 45 is the sapphire wedding anniversary in years of marriage.\n",
      "046 - 46 is the number of mountains in the 46 peaks of the Adirondack mountain range.\n",
      "047 - 47 is the total numbers of balloons that a player can collect in Rareware's Nintendo 64 game Diddy Kong Racing.\n",
      "048 - 48 is the number of Ptolemaic constellations.\n",
      "049 - 49 is the number of days and night Siddhartha Gautama spent meditating as a holy man.\n",
      "050 - 50 is the approximate number of times a mother hen turns her egg in a day so the yolk does not stick to the shell.\n",
      "051 - 51 is the atomic number of antimony.\n",
      "052 - 52 is the approximate number of weeks in a year.\n",
      "053 - 53 is the maximum number of players on a National Football League roster.\n",
      "054 - 54 is the number of countries in Africa.\n",
      "055 - 55 is the common speed limit for rural secondary roads and many urban freeways in many states of the United States.\n",
      "056 - 56 is the number of layers of the Universe according to Aristotle (Earth plus 55 crystalline spheres above it).\n",
      "057 - 57 is the number of cm that the smallest man measured, Gul Mohammed (1957-1997) of India.\n",
      "058 - 58 is the number of usable cells on a Hexxagon game board.\n",
      "059 - 59 is the number corresponding to the last minute in a given hour.\n",
      "060 - 60 is the number of minutes in an hour.\n",
      "061 - 61 is the number of points required to win a \"standard\" game of Cribbage.\n",
      "062 - 62 is the number which Sigmund Freud has an irrational fear of.\n",
      "063 - 63 is the atomic number of europium.\n",
      "064 - 64 is the number of demons in the Dictionnaire Infernal.\n",
      "065 - 65 is the minimum grade required to pass an exam, or class, in many areas.\n",
      "066 - 66 is the number of years of the longest hiccups on record by an American pig farmer from 1922 to 1987.\n",
      "067 - 67 is the number of throws in Judo.\n",
      "068 - 68 is the ideal temperature (F) for developing black-and-white film.\n",
      "069 - 69 is the number Bill and Ted were thinking of when talking to their future selves.\n",
      "070 - 70 is the number of years of marriage until the platinum wedding anniversary.\n",
      "071 - 71 is the number of different characters that can be used with a standard English Keyboard, excluding uppercase letters.\n",
      "072 - 72 is the number of disciples of Confucius.\n",
      "073 - 73 is the length of the Arecibo message sent to space in search for extraterrestrial intelligence.\n",
      "074 - 74 is the number of stars obtained by SpongeBob SquarePants in his driving school.\n",
      "075 - 75 is the age in years that the Saguaro Cactus, found in southwestern US, must be to grow branches.\n",
      "076 - 76 is the atomic number of osmium.\n",
      "077 - 77 is the atomic number of iridium.\n",
      "078 - 78 is the number of chromosomes in canine DNA.\n",
      "079 - 79 is the record for cumulative weeks at #1 on the Billboard charts, held by Elvis Presley.\n",
      "080 - 80 is the standard TCP/IP port number used for HTTP connections.\n",
      "081 - 81 is the number of stanzas or chapters in the Tao te Ching (in the most common arrangements).\n",
      "082 - 82 is the atomic number of lead.\n",
      "083 - 83 is the atomic number of bismuth.\n",
      "084 - 84 is the atomic number of polonium.\n",
      "085 - 85 is the atomic number of astatine.\n",
      "086 - 86 is the device number for a lockout relay function in electrical circuit protection schemes.\n",
      "087 - 87 is the number of tools in the Wenger Swiss Army Knife version XXL, listed in the Guinness Book of World Records as the world's most multi-functional penknife.\n",
      "088 - 88 is a standard length of playing cards in mm.\n",
      "089 - 89 is the number of units of each colour in the board game Blokus.\n",
      "090 - 90 is the number of minutes in a football (soccer) match.\n",
      "091 - 91 is the code for international direct dial phone calls to India.\n",
      "092 - 92 is the percentage of water in watermelons.\n",
      "093 - 93 is that approximate distance in millions of miles the Sun is away from the Earth.\n",
      "094 - 94 is the length of an NBA court in feet.\n",
      "095 - 95 is the percentage confidence interval that is considered satisfactory for most purposes in statistics.\n",
      "096 - 96 is the rating of Skyrim on metacritic.com.\n",
      "097 - 97 is the number of different characters that can be used with a standard English Keyboard.\n",
      "098 - 98 is the highest jersey number allowed in the National Hockey League (as 99 was retired by the entire league to honor Wayne Gretzky).\n",
      "099 - 99 is the highest jersey number allowed in most major league sports.\n"
     ]
    }
   ],
   "source": [
    "# Print by concatenating numbers with leading zeros, \"-\" and trivia values\n",
    "for n, t in zip(numbers_leading_zeros, trivia_values):\n",
    "    print(n,\"-\", t)"
   ]
  },
  {
   "cell_type": "markdown",
   "metadata": {},
   "source": [
    "## Part 2 "
   ]
  },
  {
   "cell_type": "markdown",
   "metadata": {},
   "source": [
    "a) Search for buy-it-now listings of \"playstation 4 slim\" and limit the number of items to 100 per page. \n",
    "\n",
    "Identify all the sponsored items.\n",
    "\n",
    "For the first 10 pages of 100 items/page, save all the URLs of sponsored items' pages to the file \"sponsored.txt\"  and all the URLs of non-sponsored items' pages to the file \"non-sponsored.txt\" in the same directory as your code. (One URL per line in each file)"
   ]
  },
  {
   "cell_type": "code",
   "execution_count": 6,
   "metadata": {},
   "outputs": [],
   "source": [
    "# Import neccessary packages\n",
    "import time\n",
    "import re\n",
    "from bs4 import BeautifulSoup\n",
    "from requests import get\n",
    "import os\n",
    "import os.path"
   ]
  },
  {
   "cell_type": "code",
   "execution_count": 7,
   "metadata": {},
   "outputs": [],
   "source": [
    "# Adding user agent as Mozilla to make the server believe that the request came from a browser\n",
    "user_agent = 'Mozilla/5.0'\n",
    "# Adding the user agent to the request header\n",
    "headers = {'User-Agent': user_agent}"
   ]
  },
  {
   "cell_type": "code",
   "execution_count": 8,
   "metadata": {},
   "outputs": [
    {
     "data": {
      "text/plain": [
       "['01', '02', '03', '04', '05', '06', '07', '08', '09', '10']"
      ]
     },
     "execution_count": 8,
     "metadata": {},
     "output_type": "execute_result"
    }
   ],
   "source": [
    "# Creates the list of page numbers from 1-10 as in the url as 01, 02, etc\n",
    "page_numbers = [\"{0:02}\".format(i+1) for i in range(10)]\n",
    "page_numbers"
   ]
  },
  {
   "cell_type": "code",
   "execution_count": 9,
   "metadata": {},
   "outputs": [],
   "source": [
    "# Loops 10 times over the page number list, one per page number\n",
    "file_name = []\n",
    "for i in range(10):\n",
    "    # Concatenates page number with the url to create the url for each result page\n",
    "    url = \"https://www.ebay.com/sch/i.html?_nkw=playstation+4+slim&rt=nc&LH_BIN=1&_ipg=100&_pgn=\" + page_numbers[i]\n",
    "    # Requesting the ebay website's (with specific page number) access to the server and storing the response\n",
    "    res = get(url, headers = headers)\n",
    "    # Parsing the response and storing the resulting html\n",
    "    data = BeautifulSoup(res.text, 'html.parser')\n",
    "    # Creates the file name by concatenating the page numbers\n",
    "    file_name.append(\"playstation_4_slim_\" + page_numbers[i] + \".htm\")\n",
    "    # Writes the output to the html file\n",
    "    with open(file_name[i], \"w\", encoding='utf-8') as file:\n",
    "        file.write(str(data))\n",
    "    # Waits idle for 2 secs before moving on to the next iteration of the loop\n",
    "    #time.sleep(2)"
   ]
  },
  {
   "cell_type": "code",
   "execution_count": 10,
   "metadata": {},
   "outputs": [],
   "source": [
    "# Loops 10 times over the files created, once for each file\n",
    "# Let's create the list of all products and sponsored products\n",
    "sponsored_products = []\n",
    "total_products = []\n",
    "\n",
    "for name in file_name:\n",
    "    # Reads the file\n",
    "    with open(name, \"r\", encoding='utf-8') as file:\n",
    "        # Parses the file contents and stores the resulting html\n",
    "        content = BeautifulSoup(file.read(), 'html.parser')\n",
    "        # Finds the h3 tags with particular class, relating to all items from the results shown\n",
    "        total_titles = content.findAll(\"h3\", {\"class\": \"s-item__title\"})\n",
    "        # Finds the h3 tags with particular class, relating to the sponsored items from the results shown\n",
    "        sponsored_titles = content.findAll(\"h3\", {\"class\": \"s-item__title s-item__title--has-tags\"})\n",
    "        # adds each title from the h3 tag to a list of total_products\n",
    "        for title in total_titles:\n",
    "            total_products.append(title)\n",
    "        # adds each title from the h3 tag to a list of sponsored_products\n",
    "        for title in sponsored_titles:\n",
    "            sponsored_products.append(title)"
   ]
  },
  {
   "cell_type": "markdown",
   "metadata": {},
   "source": [
    "### Sponsored Products"
   ]
  },
  {
   "cell_type": "code",
   "execution_count": 11,
   "metadata": {},
   "outputs": [],
   "source": [
    "# Loops over the sponsored products list\n",
    "for each in sponsored_products:\n",
    "    # Prints the url of the each title by traversing to the parent of the h3 tag(which is <a> tag)\n",
    "    # and getting the web link from href attribute\n",
    "    url_simplify = re.sub(\"(.*)\\\\?.*\", r\"\\1\\n\", each.parent.get('href'))\n",
    "    # Reads file\n",
    "    file = open(\"sponsored.txt\",\"a\")\n",
    "    # Storing content into text file\n",
    "    file.write(url_simplify)"
   ]
  },
  {
   "cell_type": "markdown",
   "metadata": {},
   "source": [
    "### Unsponsored Products"
   ]
  },
  {
   "cell_type": "code",
   "execution_count": 12,
   "metadata": {},
   "outputs": [],
   "source": [
    "for i in sponsored_products: \n",
    "    try: \n",
    "        total_products.remove(i) \n",
    "    except ValueError: \n",
    "        pass\n",
    "    unsponsored_products = total_products"
   ]
  },
  {
   "cell_type": "code",
   "execution_count": 13,
   "metadata": {},
   "outputs": [],
   "source": [
    "# Loops over the unsponsored products list\n",
    "for each in unsponsored_products:\n",
    "    # Prints the url of the each title by traversing to the parent of the h3 tag(which is <a> tag)\n",
    "    # and getting the web link from href attribute\n",
    "    url_simplify = re.sub(\"(.*)\\\\?.*\", r\"\\1\\n\", each.parent.get('href'))\n",
    "    # Reads file\n",
    "    file = open(\"non-sponsored.txt\",\"a\")\n",
    "    # Storing content into text file\n",
    "    file.write(url_simplify)"
   ]
  },
  {
   "cell_type": "markdown",
   "metadata": {},
   "source": [
    "b) Create two folders in the same directory as your code and name them \"sponsored\" and \"non-sponsored\". Write a program that opens the two files in (a) and downloads each of the pages (URLs) into the folders \"sponsored\" and \"non-sponsored\". Each file should be named as \"< item-id>.htm\" where you replace \"item-id\" with the ID of the item you are saving."
   ]
  },
  {
   "cell_type": "code",
   "execution_count": 14,
   "metadata": {},
   "outputs": [],
   "source": [
    "# Create sponsored folder\n",
    "if not os.path.exists(\"sponsored\"):\n",
    "    os.makedirs(\"sponsored\")\n",
    "# Create non-sponsored folder\n",
    "if not os.path.exists(\"non-sponsored\"):\n",
    "    os.makedirs(\"non-sponsored\")"
   ]
  },
  {
   "cell_type": "code",
   "execution_count": 15,
   "metadata": {},
   "outputs": [],
   "source": [
    "# Creating lists of the sponsored and non-sponsored URLs \n",
    "sponsored_url = open(\"sponsored.txt\").read().splitlines()\n",
    "non_sponsored_url = open(\"non-sponsored.txt\").read().splitlines()"
   ]
  },
  {
   "cell_type": "code",
   "execution_count": 16,
   "metadata": {},
   "outputs": [],
   "source": [
    "# Extracting ids from sponsored url list\n",
    "ids_sponsored = [x[-12:] for x in sponsored_url]\n",
    "# Extracting ids from non-sponsored url list\n",
    "ids_non_sponsored = [x[-12:] for x in non_sponsored_url]"
   ]
  },
  {
   "cell_type": "code",
   "execution_count": 17,
   "metadata": {},
   "outputs": [],
   "source": [
    "# Defining the working directory that files will be saved to\n",
    "sponsored_working_directory = os.getcwd()+\"/sponsored\"\n",
    "non_sponsored_working_directory = os.getcwd()+\"/non-sponsored\""
   ]
  },
  {
   "cell_type": "markdown",
   "metadata": {},
   "source": [
    "### Downloading Sponsored Pages to Sponsored Folder"
   ]
  },
  {
   "cell_type": "code",
   "execution_count": 18,
   "metadata": {},
   "outputs": [],
   "source": [
    "# Loops over all URLs in the sponsored url list\n",
    "sponsored_file_name = []\n",
    "# Check number of urls in the list for looping\n",
    "length_sponsored = len(sponsored_url)\n",
    "for url,i in zip(sponsored_url,range(length_sponsored)):\n",
    "    #Requesting the ebay's website (for sponsored listings) access to the server and storing the response\n",
    "    res = get(url, headers = headers)\n",
    "    # Parsing the response and storing the resulting html\n",
    "    data = BeautifulSoup(res.text, 'html.parser')\n",
    "    # Creates file names by indexing the ids from ids_sponsored list\n",
    "    sponsored_file_name.append(ids_sponsored[i] + \".htm\")\n",
    "    # Writes output to html file in the correct working directory\n",
    "    with open(os.path.join(sponsored_working_directory,sponsored_file_name[i]), \"w\", encoding='utf-8') as file:\n",
    "        file.write(str(data))\n",
    "    # Waits idle for 2 secs before moving on to the next iteration of the loop\n",
    "    time.sleep(2)"
   ]
  },
  {
   "cell_type": "markdown",
   "metadata": {},
   "source": [
    "### Downloading Non-Sponsored Pages to Non-Sponsored Folder"
   ]
  },
  {
   "cell_type": "code",
   "execution_count": 20,
   "metadata": {},
   "outputs": [],
   "source": [
    "# Loops over all URLs in the non-sponsored url list\n",
    "non_sponsored_file_name = []\n",
    "# Check number of urls in the list for looping\n",
    "length_non_sponsored = len(non_sponsored_url)\n",
    "for url,i in zip(non_sponsored_url,range(length_non_sponsored)):\n",
    "    #Requesting the ebay's website (for non-sponsored listings) access to the server and storing the response\n",
    "    res = get(url, headers = headers)\n",
    "    # Parsing the response and storing the resulting html\n",
    "    data = BeautifulSoup(res.text, 'html.parser')\n",
    "    # Creates file names by indexing the ids from ids_non_sponsored list\n",
    "    non_sponsored_file_name.append(ids_non_sponsored[i] + \".htm\")\n",
    "    # Writes output to html file in the correct working directory\n",
    "    with open(os.path.join(non_sponsored_working_directory,non_sponsored_file_name[i]), \"w\", encoding='utf-8') as file:\n",
    "        file.write(str(data))\n",
    "    # Waits idle for 2 secs before moving on to the next iteration of the loop\n",
    "    time.sleep(2)"
   ]
  },
  {
   "cell_type": "markdown",
   "metadata": {},
   "source": [
    "c) Write a separate piece of code that loops through the pages you downloaded in (b) and opens and parses them into a Python or Java xxxxsoup-object. Identify and select:\n",
    "\n",
    "seller name, seller score, item price, # items sold, best offer available, title, returns allowed, shipping price, condition (e.g., used, new, like new, seller refurbished, ...)."
   ]
  },
  {
   "cell_type": "code",
   "execution_count": 22,
   "metadata": {},
   "outputs": [],
   "source": [
    "# sponsored seller_name\n",
    "sponsored_seller_name = []\n",
    "\n",
    "for name in sponsored_file_name:\n",
    "    # Reads the file\n",
    "    with open(os.path.join(sponsored_working_directory,name), \"r\", encoding='utf-8') as file:\n",
    "        # Parses the file contents and stores the resulting html\n",
    "        content = BeautifulSoup(file.read(), 'html.parser')\n",
    "        \n",
    "        # Main seller information\n",
    "        # Finds the div tags with class \"rsp-c\", relating to the seller information items from the results shown\n",
    "        seller_main = content.findAll(\"div\", attrs={'class':\"rsp-c\"})\n",
    "\n",
    "        # seller_name\n",
    "        # Using a for loop, look for all span nests with class \"mbg-nw\" and extract the content within the nest\n",
    "        for i in range(len(seller_main)):\n",
    "            seller = seller_main[i].findAll(\"span\", class_ = \"mbg-nw\")[i].text\n",
    "            # Adding each seller to a final list: seller_name\n",
    "            sponsored_seller_name.append(seller)"
   ]
  },
  {
   "cell_type": "code",
   "execution_count": 144,
   "metadata": {},
   "outputs": [
    {
     "data": {
      "text/plain": [
       "126"
      ]
     },
     "execution_count": 144,
     "metadata": {},
     "output_type": "execute_result"
    }
   ],
   "source": [
    "#sponsored_seller_name\n",
    "len(sponsored_seller_name)"
   ]
  },
  {
   "cell_type": "code",
   "execution_count": 196,
   "metadata": {},
   "outputs": [],
   "source": [
    "# non-sponsored seller_name\n",
    "non_sponsored_seller_name = []\n",
    "\n",
    "for name in non_sponsored_file_name:\n",
    "    # Reads the file\n",
    "    with open(os.path.join(non_sponsored_working_directory,name), \"r\", encoding='utf-8') as file:\n",
    "        # Parses the file contents and stores the resulting html\n",
    "        content = BeautifulSoup(file.read(), 'html.parser')\n",
    "        \n",
    "        # Main seller information\n",
    "        # Finds the span tags with class \"mbg-nw\", relating to the seller information items from the results shown\n",
    "        seller_main = content.findAll(\"span\", class_ = \"mbg-nw\")\n",
    "        seller_main_str = str(seller_main)\n",
    "        \n",
    "        # Adding each seller to a final list: seller_name\n",
    "        non_sponsored_seller_name.append(seller_main_str)"
   ]
  },
  {
   "cell_type": "code",
   "execution_count": 238,
   "metadata": {},
   "outputs": [],
   "source": [
    "non_sponsored_seller_name_final = []\n",
    "for i in range(len(non_sponsored_seller_name)):\n",
    "    c1 = re.sub('\\[<span class=\"mbg-nw\">','', non_sponsored_seller_name[i])\n",
    "    c2 = re.sub('\\</span>]','', c1)\n",
    "    c3 = re.sub('\\</span>','',c2)\n",
    "    c4 = re.sub('\\s\\<span class=\"mbg-nw\">','',c3)\n",
    "    #c3 = re.sub('\\[<div class=\"si-sp-fb\" id=\"si-fb\">','', c2)\n",
    "    #c4 = re.sub('\\\\xa0Positive feedback</div>]','', c3)\n",
    "    #c5 = re.sub('\\[]','', c4)\n",
    "    non_sponsored_seller_name_final.append(c4)"
   ]
  },
  {
   "cell_type": "code",
   "execution_count": 27,
   "metadata": {},
   "outputs": [],
   "source": [
    "# sponsored seller_score\n",
    "sponsored_seller_score = []\n",
    "\n",
    "for name in sponsored_file_name:\n",
    "    # Reads the file\n",
    "    with open(os.path.join(sponsored_working_directory,name), \"r\", encoding='utf-8') as file:\n",
    "        # Parses the file contents and stores the resulting html\n",
    "        content = BeautifulSoup(file.read(), 'html.parser')\n",
    "        \n",
    "        # Main seller information\n",
    "        # Finds the div tags with id \"si-fb\", relating to the seller score information from the results shown\n",
    "        score = content.findAll(\"div\", attrs={'id':\"si-fb\"})\n",
    "        score_str = str(score)\n",
    "        \n",
    "        # Adding each seller to a final list: seller_name\n",
    "        sponsored_seller_score.append(score_str)"
   ]
  },
  {
   "cell_type": "code",
   "execution_count": 28,
   "metadata": {},
   "outputs": [],
   "source": [
    "# Now time to take off everything but the numbers!\n",
    "# It's long but you can't say i'm not thinking outside the box!\n",
    "sponsored_seller_score_final = []\n",
    "for i in range(len(sponsored_seller_score)):\n",
    "    c1 = re.sub('\\[<div id=\"si-fb\">','', sponsored_seller_score[i])\n",
    "    c2 = re.sub('\\[<div class=\"si-mbg\" id=\"si-fb\">','', c1)\n",
    "    c3 = re.sub('\\[<div class=\"si-sp-fb\" id=\"si-fb\">','', c2)\n",
    "    c4 = re.sub('\\\\xa0Positive feedback</div>]','', c3)\n",
    "    c5 = re.sub('\\[]','', c4)\n",
    "    sponsored_seller_score_final.append(c5)"
   ]
  },
  {
   "cell_type": "code",
   "execution_count": 30,
   "metadata": {},
   "outputs": [],
   "source": [
    "# non-sponsored seller_score\n",
    "non_sponsored_seller_score = []\n",
    "\n",
    "for name in non_sponsored_file_name:\n",
    "    # Reads the file\n",
    "    with open(os.path.join(non_sponsored_working_directory,name), \"r\", encoding='utf-8') as file:\n",
    "        # Parses the file contents and stores the resulting html\n",
    "        content = BeautifulSoup(file.read(), 'html.parser')\n",
    "        \n",
    "        # Main seller information\n",
    "        # Finds the div tags with id \"si-fb\", relating to the seller score information from the results shown\n",
    "        score = content.findAll(\"div\", attrs={'id':\"si-fb\"})\n",
    "        score_str = str(score)\n",
    "        #print(score)\n",
    "        \n",
    "        # Adding each seller to a final list: seller_name\n",
    "        non_sponsored_seller_score.append(score_str)"
   ]
  },
  {
   "cell_type": "code",
   "execution_count": 31,
   "metadata": {},
   "outputs": [],
   "source": [
    "# Now time to take off everything but the numbers!\n",
    "# It's long but you can't say i'm not thinking outside the box!\n",
    "non_sponsored_seller_score_final = []\n",
    "for i in range(len(non_sponsored_seller_score)):\n",
    "    c1 = re.sub('\\[<div id=\"si-fb\">','', non_sponsored_seller_score[i])\n",
    "    c2 = re.sub('\\[<div class=\"si-mbg\" id=\"si-fb\">','', c1)\n",
    "    c3 = re.sub('\\[<div class=\"si-sp-fb\" id=\"si-fb\">','', c2)\n",
    "    c4 = re.sub('\\\\xa0Positive feedback</div>]','', c3)\n",
    "    c5 = re.sub('\\[]','', c4)\n",
    "    non_sponsored_seller_score_final.append(c5)"
   ]
  },
  {
   "cell_type": "code",
   "execution_count": 33,
   "metadata": {},
   "outputs": [],
   "source": [
    "# sponsored item price\n",
    "sponsored_item_price = []\n",
    "\n",
    "for name in sponsored_file_name:\n",
    "    # Reads the file\n",
    "    with open(os.path.join(sponsored_working_directory,name), \"r\", encoding='utf-8') as file:\n",
    "        # Parses the file contents and stores the resulting html\n",
    "        content = BeautifulSoup(file.read(), 'html.parser')\n",
    "        \n",
    "        # Main price nest\n",
    "        # Finds the span tags with class \"notranslate\" and id \"prcIsum\", relating to the seller information items from the results shown\n",
    "        prices = content.findAll(\"span\", attrs={'class':\"notranslate\", 'id':\"prcIsum\"})\n",
    "        prices_str = str(prices)\n",
    "        \n",
    "        # Adding each price to a final list\n",
    "        sponsored_item_price.append(prices_str)"
   ]
  },
  {
   "cell_type": "code",
   "execution_count": 34,
   "metadata": {},
   "outputs": [],
   "source": [
    "# Now time to take off everything but the numbers!\n",
    "# It's long but you can't say i'm not thinking outside the box!\n",
    "sponsored_item_price_final = []\n",
    "for i in range(len(sponsored_item_price)):\n",
    "    c1 = re.sub('\\[<span class=\"notranslate\" content=\"[0-9]{3}.[0-9]{2}\" id=\"prcIsum\" itemprop=\"price\" style=\"\">','', sponsored_item_price[i])\n",
    "    c2 = re.sub('\\[<span class=\"notranslate\" content=\"[0-9]{3}.[0-9]{1}\" id=\"prcIsum\" itemprop=\"price\" style=\"\">','', c1)\n",
    "    c3 = re.sub('/ea','',c2)\n",
    "    c4 = re.sub('\\</span>]','',c3)\n",
    "    c5 = re.sub('\\[]','',c4)\n",
    "    sponsored_item_price_final.append(c5)"
   ]
  },
  {
   "cell_type": "code",
   "execution_count": 36,
   "metadata": {},
   "outputs": [],
   "source": [
    "#Now let's split price and currencies!\n",
    "sponsored_item_price_final_currency = []\n",
    "for i in range(len(sponsored_item_price_final)):\n",
    "    c1 = re.sub('\\$.*',\"$\",sponsored_item_price_final[i])\n",
    "    c2 = re.sub('GBP.*',\"GBP\",c1)\n",
    "    sponsored_item_price_final_currency.append(c2)"
   ]
  },
  {
   "cell_type": "code",
   "execution_count": 38,
   "metadata": {},
   "outputs": [],
   "source": [
    "#Now let's take the price values!\n",
    "sponsored_item_price_final_value = []\n",
    "for i in range(len(sponsored_item_price_final)):\n",
    "    c1 = re.sub('US\\s\\$',\"\",sponsored_item_price_final[i])\n",
    "    c2 = re.sub('GBP\\s','',c1)\n",
    "    sponsored_item_price_final_value.append(c2)"
   ]
  },
  {
   "cell_type": "code",
   "execution_count": 40,
   "metadata": {},
   "outputs": [],
   "source": [
    "# non-sponsored item price\n",
    "non_sponsored_item_price = []\n",
    "\n",
    "for name in non_sponsored_file_name:\n",
    "    # Reads the file\n",
    "    with open(os.path.join(non_sponsored_working_directory,name), \"r\", encoding='utf-8') as file:\n",
    "        # Parses the file contents and stores the resulting html\n",
    "        content = BeautifulSoup(file.read(), 'html.parser')\n",
    "        \n",
    "        # Main price nest\n",
    "        # Finds the span tags with class \"notranslate\" and id \"prcIsum\", relating to the seller information items from the results shown\n",
    "        prices = content.findAll(\"span\", attrs={'class':\"notranslate\", 'id':\"prcIsum\"})\n",
    "        prices_str = str(prices)\n",
    "        \n",
    "        # Adding each price to a final list\n",
    "        non_sponsored_item_price.append(prices_str)"
   ]
  },
  {
   "cell_type": "code",
   "execution_count": 41,
   "metadata": {},
   "outputs": [],
   "source": [
    "# Now time to take off everything but the numbers!\n",
    "# It's long but you can't say i'm not thinking outside the box!\n",
    "non_sponsored_item_price_final = []\n",
    "for i in range(len(non_sponsored_item_price)):\n",
    "    c1 = re.sub('\\[<span class=\"notranslate\" content=\"[0-9]{3}.[0-9]{2}\" id=\"prcIsum\" itemprop=\"price\" style=\"\">','', non_sponsored_item_price[i])\n",
    "    c2 = re.sub('\\[<span class=\"notranslate\" content=\"[0-9]{3}.[0-9]{1}\" id=\"prcIsum\" itemprop=\"price\" style=\"\">','', c1)\n",
    "    c3 = re.sub('/ea','',c2)\n",
    "    c4 = re.sub('\\</span>]','',c3)\n",
    "    c5 = re.sub('\\[]','',c4)\n",
    "    c6 = re.sub('\\[<span class=\"notranslate\" content=\"[0-9]{2}.[0-9]{1}\" id=\"prcIsum\" itemprop=\"price\" style=\"\">','', c5)\n",
    "    c7 = re.sub('\\[<span class=\"notranslate\" content=\"[0-9]{4}.[0-9]{2}\" id=\"prcIsum\" itemprop=\"price\" style=\"\">','', c6)\n",
    "    non_sponsored_item_price_final.append(c7)"
   ]
  },
  {
   "cell_type": "code",
   "execution_count": 277,
   "metadata": {},
   "outputs": [],
   "source": [
    "#Now let's split price and currencies!\n",
    "non_sponsored_item_price_final_currency = []\n",
    "for i in range(len(non_sponsored_item_price_final)):\n",
    "    c1 = re.sub('\\$.*',\"$\",non_sponsored_item_price_final[i])\n",
    "    c2 = re.sub('GBP.*',\"GBP\",c1)\n",
    "    c3 = re.sub('\\[<span class=\"notranslate\" id=\"prcIsum\" style=\"\">\\n\\t\\t\\t\\t\\t\\t\\t\\t\\t\\t',\"\",c2)\n",
    "    non_sponsored_item_price_final_currency.append(c3)"
   ]
  },
  {
   "cell_type": "code",
   "execution_count": 45,
   "metadata": {},
   "outputs": [],
   "source": [
    "#Now let's take the price values!\n",
    "non_sponsored_item_price_final_value = []\n",
    "for i in range(len(non_sponsored_item_price_final)):\n",
    "    c1 = re.sub('US\\s\\$',\"\",non_sponsored_item_price_final[i])\n",
    "    c2 = re.sub('GBP\\s','',c1)\n",
    "    c3 = re.sub('AU\\s\\$',\"\",c2)\n",
    "    non_sponsored_item_price_final_value.append(c3)"
   ]
  },
  {
   "cell_type": "code",
   "execution_count": 47,
   "metadata": {},
   "outputs": [],
   "source": [
    "# sponsored items sold\n",
    "sponsored_items_sold = []\n",
    "\n",
    "for name in sponsored_file_name:\n",
    "    # Reads the file\n",
    "    with open(os.path.join(sponsored_working_directory,name), \"r\", encoding='utf-8') as file:\n",
    "        # Parses the file contents and stores the resulting html\n",
    "        content = BeautifulSoup(file.read(), 'html.parser')\n",
    "        \n",
    "        # Main price nest\n",
    "        # Finds the a tags with class \"vi-txt-underline\", relating to the seller information items from the results shown\n",
    "        items_sold = content.findAll(\"a\", attrs={'class':\"vi-txt-underline\"})\n",
    "        items_sold_str = str(items_sold)\n",
    "        \n",
    "        # Adding each item sold to a final list\n",
    "        sponsored_items_sold.append(items_sold_str)"
   ]
  },
  {
   "cell_type": "code",
   "execution_count": 48,
   "metadata": {},
   "outputs": [],
   "source": [
    "# Now time to take off everything but the numbers!\n",
    "sponsored_items_sold_final = []\n",
    "for i in range(len(sponsored_items_sold)):\n",
    "    c1 = re.sub('\\[<a.*\">','', sponsored_items_sold[i])\n",
    "    c2 = re.sub('\\s.*','',c1)\n",
    "    c3 = re.sub('\\[]','',c2)\n",
    "    sponsored_items_sold_final.append(c3)"
   ]
  },
  {
   "cell_type": "code",
   "execution_count": 50,
   "metadata": {},
   "outputs": [],
   "source": [
    "# non-sponsored items sold\n",
    "non_sponsored_items_sold = []\n",
    "\n",
    "for name in non_sponsored_file_name:\n",
    "    # Reads the file\n",
    "    with open(os.path.join(non_sponsored_working_directory,name), \"r\", encoding='utf-8') as file:\n",
    "        # Parses the file contents and stores the resulting html\n",
    "        content = BeautifulSoup(file.read(), 'html.parser')\n",
    "        \n",
    "        # Main price nest\n",
    "        # Finds the a tags with class \"vi-txt-underline\", relating to the seller information items from the results shown\n",
    "        items_sold = content.findAll(\"a\", attrs={'class':\"vi-txt-underline\"})\n",
    "        items_sold_str = str(items_sold)\n",
    "        \n",
    "        # Adding each item sold to a final list\n",
    "        non_sponsored_items_sold.append(items_sold_str)"
   ]
  },
  {
   "cell_type": "code",
   "execution_count": 51,
   "metadata": {},
   "outputs": [],
   "source": [
    "# Now time to take off everything but the numbers!\n",
    "non_sponsored_items_sold_final = []\n",
    "for i in range(len(non_sponsored_items_sold)):\n",
    "    c1 = re.sub('\\[<a.*\">','', non_sponsored_items_sold[i])\n",
    "    c2 = re.sub('\\s.*','',c1)\n",
    "    c3 = re.sub('\\[]','',c2)\n",
    "    non_sponsored_items_sold_final.append(c3)"
   ]
  },
  {
   "cell_type": "code",
   "execution_count": 53,
   "metadata": {},
   "outputs": [],
   "source": [
    "# sponsored best offer available\n",
    "sponsored_best_offer = []\n",
    "\n",
    "for name in sponsored_file_name:\n",
    "    # Reads the file\n",
    "    with open(os.path.join(sponsored_working_directory,name), \"r\", encoding='utf-8') as file:\n",
    "        # Parses the file contents and stores the resulting html\n",
    "        content = BeautifulSoup(file.read(), 'html.parser')\n",
    "        \n",
    "        # Main price nest\n",
    "        # Finds the span tags with id \"boBtn_btn_parent\", relating to the seller information items from the results shown\n",
    "        best_offer = content.findAll(\"span\", attrs={'id':\"boBtn_btn_parent\"})\n",
    "        best_offer_str = str(best_offer)\n",
    "        \n",
    "        # Adding each item sold to a final list\n",
    "        sponsored_best_offer.append(best_offer_str)"
   ]
  },
  {
   "cell_type": "code",
   "execution_count": 54,
   "metadata": {},
   "outputs": [],
   "source": [
    "# Now categorize available/non-available offers!\n",
    "sponsored_best_offer_final = []\n",
    "for i in range(len(sponsored_best_offer)):\n",
    "    c1 = re.sub('\\[<+',\"available\",sponsored_best_offer[i])\n",
    "    c2 = re.sub('available(.|\\s)*\\S(.|\\s)*',\"available\",c1)\n",
    "    c3 = re.sub('\\[]','unavailable',c2)\n",
    "    sponsored_best_offer_final.append(c3)"
   ]
  },
  {
   "cell_type": "code",
   "execution_count": 56,
   "metadata": {},
   "outputs": [],
   "source": [
    "# non-sponsored best offer available\n",
    "non_sponsored_best_offer = []\n",
    "\n",
    "for name in non_sponsored_file_name:\n",
    "    # Reads the file\n",
    "    with open(os.path.join(non_sponsored_working_directory,name), \"r\", encoding='utf-8') as file:\n",
    "        # Parses the file contents and stores the resulting html\n",
    "        content = BeautifulSoup(file.read(), 'html.parser')\n",
    "        \n",
    "        # Main price nest\n",
    "        # Finds the span tags with id \"boBtn_btn_parent\", relating to the seller information items from the results shown\n",
    "        best_offer = content.findAll(\"span\", attrs={'id':\"boBtn_btn_parent\"})\n",
    "        best_offer_str = str(best_offer)\n",
    "        \n",
    "        # Adding each item sold to a final list\n",
    "        non_sponsored_best_offer.append(best_offer_str)"
   ]
  },
  {
   "cell_type": "code",
   "execution_count": 57,
   "metadata": {},
   "outputs": [],
   "source": [
    "# Now categorize available/non-available offers!\n",
    "non_sponsored_best_offer_final = []\n",
    "for i in range(len(non_sponsored_best_offer)):\n",
    "    c1 = re.sub('\\[<+',\"available\",non_sponsored_best_offer[i])\n",
    "    c2 = re.sub('available(.|\\s)*\\S(.|\\s)*',\"available\",c1)\n",
    "    c3 = re.sub('\\[]','unavailable',c2)\n",
    "    non_sponsored_best_offer_final.append(c3)"
   ]
  },
  {
   "cell_type": "code",
   "execution_count": 59,
   "metadata": {},
   "outputs": [],
   "source": [
    "# Sponsored Title\n",
    "sponsored_title = []\n",
    "\n",
    "for name in sponsored_file_name:\n",
    "    # Reads the file\n",
    "    with open(os.path.join(sponsored_working_directory,name), \"r\", encoding='utf-8') as file:\n",
    "        # Parses the file contents and stores the resulting html\n",
    "        content = BeautifulSoup(file.read(), 'html.parser')\n",
    "        \n",
    "        # Finds the h1 tags with class \"it-ttl\", relating to the seller information items from the results shown\n",
    "        title = content.findAll(\"h1\", attrs={'class':\"it-ttl\"})\n",
    "        title_str = str(title)\n",
    "        \n",
    "        # Adding each item sold to a final list\n",
    "        sponsored_title.append(title_str)"
   ]
  },
  {
   "cell_type": "code",
   "execution_count": 60,
   "metadata": {},
   "outputs": [],
   "source": [
    "# Now pulling out the titles!\n",
    "sponsored_title_final = []\n",
    "for i in range(len(sponsored_title)):\n",
    "    c1 = re.sub('\\[<h1 class=\"it-ttl\" id=\"itemTitle\" itemprop=\"name\"><span class=\"g-hdn\">Details about  \\xa0</span>',\"\",sponsored_title[i])\n",
    "    c2 = re.sub('\\</h1>]',\"\",c1)\n",
    "    sponsored_title_final.append(c2)"
   ]
  },
  {
   "cell_type": "code",
   "execution_count": 62,
   "metadata": {},
   "outputs": [],
   "source": [
    "# non-Sponsored Title\n",
    "non_sponsored_title = []\n",
    "\n",
    "for name in non_sponsored_file_name:\n",
    "    # Reads the file\n",
    "    with open(os.path.join(non_sponsored_working_directory,name), \"r\", encoding='utf-8') as file:\n",
    "        # Parses the file contents and stores the resulting html\n",
    "        content = BeautifulSoup(file.read(), 'html.parser')\n",
    "        \n",
    "        # Finds the h1 tags with class \"it-ttl\", relating to the seller information items from the results shown\n",
    "        title = content.findAll(\"h1\", attrs={'class':\"it-ttl\"})\n",
    "        title_str = str(title)\n",
    "        \n",
    "        # Adding each item sold to a final list\n",
    "        non_sponsored_title.append(title_str)"
   ]
  },
  {
   "cell_type": "code",
   "execution_count": 63,
   "metadata": {},
   "outputs": [],
   "source": [
    "# Now pulling out the titles!\n",
    "non_sponsored_title_final = []\n",
    "for i in range(len(non_sponsored_title)):\n",
    "    c1 = re.sub('\\[<h1 class=\"it-ttl\" id=\"itemTitle\" itemprop=\"name\"><span class=\"g-hdn\">Details about  \\xa0</span>',\"\",non_sponsored_title[i])\n",
    "    c2 = re.sub('\\</h1>]',\"\",c1)\n",
    "    non_sponsored_title_final.append(c2)"
   ]
  },
  {
   "cell_type": "code",
   "execution_count": 65,
   "metadata": {},
   "outputs": [],
   "source": [
    "# Sponsored returns allowed\n",
    "sponsored_returns = []\n",
    "\n",
    "for name in sponsored_file_name:\n",
    "    # Reads the file\n",
    "    with open(os.path.join(sponsored_working_directory,name), \"r\", encoding='utf-8') as file:\n",
    "        # Parses the file contents and stores the resulting html\n",
    "        content = BeautifulSoup(file.read(), 'html.parser')\n",
    "        \n",
    "        # Finds the span tags with id \"vi-ret-accrd-txt\", relating to the seller information items from the results shown\n",
    "        returns = content.findAll(\"span\", attrs={'id':\"vi-ret-accrd-txt\"})\n",
    "        returns_str = str(returns)\n",
    "        \n",
    "        # Adding each item sold to a final list\n",
    "        sponsored_returns.append(returns_str)"
   ]
  },
  {
   "cell_type": "code",
   "execution_count": 66,
   "metadata": {},
   "outputs": [],
   "source": [
    "# Now pulling out the return details!\n",
    "sponsored_returns_final = []\n",
    "for i in range(len(sponsored_returns)):\n",
    "    c1 = re.sub('\\[<span id=\"vi-ret-accrd-txt\">',\"\",sponsored_returns[i])\n",
    "    c2 = re.sub('\\</span>]',\"\",c1)\n",
    "    c3 = re.sub('\\[<span class=\"vi-no-ret-accrd-txt\" id=\"vi-ret-accrd-txt\">','',c2)\n",
    "    c4 = re.sub('\\\\xa0',\" \",c3)\n",
    "    sponsored_returns_final.append(c4)"
   ]
  },
  {
   "cell_type": "code",
   "execution_count": 68,
   "metadata": {},
   "outputs": [],
   "source": [
    "# non-Sponsored returns allowed\n",
    "non_sponsored_returns = []\n",
    "\n",
    "for name in non_sponsored_file_name:\n",
    "    # Reads the file\n",
    "    with open(os.path.join(non_sponsored_working_directory,name), \"r\", encoding='utf-8') as file:\n",
    "        # Parses the file contents and stores the resulting html\n",
    "        content = BeautifulSoup(file.read(), 'html.parser')\n",
    "        \n",
    "        # Finds the span tags with id \"vi-ret-accrd-txt\", relating to the seller information items from the results shown\n",
    "        returns = content.findAll(\"span\", attrs={'id':\"vi-ret-accrd-txt\"})\n",
    "        returns_str = str(returns)\n",
    "        \n",
    "        # Adding each item sold to a final list\n",
    "        non_sponsored_returns.append(returns_str)"
   ]
  },
  {
   "cell_type": "code",
   "execution_count": 69,
   "metadata": {},
   "outputs": [],
   "source": [
    "# Now pulling out the return details!\n",
    "non_sponsored_returns_final = []\n",
    "for i in range(len(non_sponsored_returns)):\n",
    "    c1 = re.sub('\\[<span id=\"vi-ret-accrd-txt\">',\"\",non_sponsored_returns[i])\n",
    "    c2 = re.sub('\\</span>]',\"\",c1)\n",
    "    c3 = re.sub('\\[<span class=\"vi-no-ret-accrd-txt\" id=\"vi-ret-accrd-txt\">','',c2)\n",
    "    c4 = re.sub('\\\\xa0',\" \",c3)\n",
    "    non_sponsored_returns_final.append(c4)"
   ]
  },
  {
   "cell_type": "code",
   "execution_count": 71,
   "metadata": {},
   "outputs": [],
   "source": [
    "# Sponsored Shipping Price\n",
    "sponsored_shipping_price = []\n",
    "\n",
    "for name in sponsored_file_name:\n",
    "    # Reads the file\n",
    "    with open(os.path.join(sponsored_working_directory,name), \"r\", encoding='utf-8') as file:\n",
    "        # Parses the file contents and stores the resulting html\n",
    "        content = BeautifulSoup(file.read(), 'html.parser')\n",
    "        \n",
    "        # Finds the span tags with id \"fshippingCost\", relating to the seller information items from the results shown\n",
    "        shipping = content.findAll(\"span\", attrs={'id':\"fshippingCost\"})\n",
    "        shipping_str = str(shipping)\n",
    "        \n",
    "        # Adding each item sold to a final list\n",
    "        sponsored_shipping_price.append(shipping_str)"
   ]
  },
  {
   "cell_type": "code",
   "execution_count": 72,
   "metadata": {},
   "outputs": [],
   "source": [
    "# Now pulling out the shipping prices!\n",
    "sponsored_shipping_price_final = []\n",
    "for i in range(len(sponsored_shipping_price)):\n",
    "    c1 = re.sub('\\[<span class=\"notranslate sh-cst\" id=\"fshippingCost\">\\n<span>',\"\",sponsored_shipping_price[i])\n",
    "    c2 = re.sub('\\</span>\\n</span>]',\"\",c1)\n",
    "    c3 = re.sub('\\[<span class=\"notranslate sh-fr-cst\" id=\"fshippingCost\">\\n<span>FREE',\"[]\",c2)\n",
    "    c4 = re.sub('</span>\\n<span class(.|\\s)*\\S(.|\\s)*',\"\",c3)\n",
    "    c5 = re.sub('\\[]','',c4)\n",
    "    sponsored_shipping_price_final.append(c5)"
   ]
  },
  {
   "cell_type": "code",
   "execution_count": 74,
   "metadata": {},
   "outputs": [],
   "source": [
    "#Now let's split price and currencies!\n",
    "sponsored_shipping_price_final_currency = []\n",
    "for i in range(len(sponsored_shipping_price_final)):\n",
    "    c1 = re.sub('\\$.*',\"$\",sponsored_shipping_price_final[i])\n",
    "    c2 = re.sub('GBP.*',\"GBP\",c1)\n",
    "    sponsored_shipping_price_final_currency.append(c2)"
   ]
  },
  {
   "cell_type": "code",
   "execution_count": 76,
   "metadata": {},
   "outputs": [],
   "source": [
    "#Now let's take the price values!\n",
    "sponsored_shipping_price_final_value = []\n",
    "for i in range(len(sponsored_shipping_price_final)):\n",
    "    c1 = re.sub('\\$',\"\",sponsored_shipping_price_final[i])\n",
    "    c2 = re.sub('AU',\"\",c1)\n",
    "    c3 = re.sub('C ',\"\",c2)\n",
    "    c4 = re.sub('GBP ',\"\",c3)\n",
    "    sponsored_shipping_price_final_value.append(c4)"
   ]
  },
  {
   "cell_type": "code",
   "execution_count": 78,
   "metadata": {},
   "outputs": [],
   "source": [
    "# non- Sponsored Shipping Price\n",
    "non_sponsored_shipping_price = []\n",
    "\n",
    "for name in non_sponsored_file_name:\n",
    "    # Reads the file\n",
    "    with open(os.path.join(non_sponsored_working_directory,name), \"r\", encoding='utf-8') as file:\n",
    "        # Parses the file contents and stores the resulting html\n",
    "        content = BeautifulSoup(file.read(), 'html.parser')\n",
    "        \n",
    "        # Finds the span tags with id \"fshippingCost\", relating to the seller information items from the results shown\n",
    "        shipping = content.findAll(\"span\", attrs={'id':\"fshippingCost\"})\n",
    "        shipping_str = str(shipping)\n",
    "        \n",
    "        # Adding each item sold to a final list\n",
    "        non_sponsored_shipping_price.append(shipping_str)"
   ]
  },
  {
   "cell_type": "code",
   "execution_count": 79,
   "metadata": {},
   "outputs": [],
   "source": [
    "# Now pulling out the shipping prices!\n",
    "non_sponsored_shipping_price_final = []\n",
    "for i in range(len(non_sponsored_shipping_price)):\n",
    "    c1 = re.sub('\\[<span class=\"notranslate sh-cst\" id=\"fshippingCost\">\\n<span>',\"\",non_sponsored_shipping_price[i])\n",
    "    c2 = re.sub('\\</span>\\n</span>]',\"\",c1)\n",
    "    c3 = re.sub('\\[<span class=\"notranslate sh-fr-cst\" id=\"fshippingCost\">\\n<span>FREE',\"[]\",c2)\n",
    "    c4 = re.sub('</span>\\n<span class(.|\\s)*\\S(.|\\s)*',\"\",c3)\n",
    "    c5 = re.sub('\\[]','',c4)\n",
    "    non_sponsored_shipping_price_final.append(c5)"
   ]
  },
  {
   "cell_type": "code",
   "execution_count": 81,
   "metadata": {},
   "outputs": [],
   "source": [
    "#Now let's split price and currencies!\n",
    "non_sponsored_shipping_price_final_currency = []\n",
    "for i in range(len(non_sponsored_shipping_price_final)):\n",
    "    c1 = re.sub('\\$.*',\"$\",non_sponsored_shipping_price_final[i])\n",
    "    non_sponsored_shipping_price_final_currency.append(c1)"
   ]
  },
  {
   "cell_type": "code",
   "execution_count": 83,
   "metadata": {},
   "outputs": [],
   "source": [
    "#Now let's take the price values!\n",
    "non_sponsored_shipping_price_final_value = []\n",
    "for i in range(len(non_sponsored_shipping_price_final)):\n",
    "    c1 = re.sub('\\$',\"\",non_sponsored_shipping_price_final[i])\n",
    "    c2 = re.sub('AU',\"\",c1)\n",
    "    non_sponsored_shipping_price_final_value.append(c2)"
   ]
  },
  {
   "cell_type": "code",
   "execution_count": 85,
   "metadata": {},
   "outputs": [],
   "source": [
    "# Sponsored Condition\n",
    "sponsored_condition = []\n",
    "\n",
    "for name in sponsored_file_name:\n",
    "    # Reads the file\n",
    "    with open(os.path.join(sponsored_working_directory,name), \"r\", encoding='utf-8') as file:\n",
    "        # Parses the file contents and stores the resulting html\n",
    "        content = BeautifulSoup(file.read(), 'html.parser')\n",
    "        \n",
    "        # Finds the div tags with class \"u-flL condText\", relating to the seller information items from the results shown\n",
    "        condition = content.findAll(\"div\", attrs={'class':\"u-flL condText\"})\n",
    "        condition_str = str(condition)\n",
    "        \n",
    "        # Adding each item sold to a final list\n",
    "        sponsored_condition.append(condition_str)"
   ]
  },
  {
   "cell_type": "code",
   "execution_count": 86,
   "metadata": {},
   "outputs": [],
   "source": [
    "# Now pulling out the conditions!\n",
    "sponsored_condition_final = []\n",
    "for i in range(len(sponsored_condition)):\n",
    "    c1 = re.sub('\\[<div class=\"u-flL condText\" id=\"vi-itm-cond\" itemprop=\"itemCondition\">',\"\",sponsored_condition[i])\n",
    "    c2 = re.sub('\\</div>]',\"\",c1)\n",
    "    #c3 = re.sub('\\[<span class=\"notranslate sh-fr-cst\" id=\"fshippingCost\">\\n<span>FREE',\"[]\",c2)\n",
    "    #c4 = re.sub('</span>\\n<span class(.|\\s)*\\S(.|\\s)*',\"\",c3)\n",
    "    #c5 = re.sub('\\[]','',c4)\n",
    "    sponsored_condition_final.append(c2)"
   ]
  },
  {
   "cell_type": "code",
   "execution_count": 88,
   "metadata": {},
   "outputs": [],
   "source": [
    "# non-Sponsored Condition\n",
    "non_sponsored_condition = []\n",
    "\n",
    "for name in non_sponsored_file_name:\n",
    "    # Reads the file\n",
    "    with open(os.path.join(non_sponsored_working_directory,name), \"r\", encoding='utf-8') as file:\n",
    "        # Parses the file contents and stores the resulting html\n",
    "        content = BeautifulSoup(file.read(), 'html.parser')\n",
    "        \n",
    "        # Finds the div tags with class \"u-flL condText\", relating to the seller information items from the results shown\n",
    "        condition = content.findAll(\"div\", attrs={'class':\"u-flL condText\"})\n",
    "        condition_str = str(condition)\n",
    "        \n",
    "        # Adding each item sold to a final list\n",
    "        non_sponsored_condition.append(condition_str)"
   ]
  },
  {
   "cell_type": "code",
   "execution_count": 89,
   "metadata": {},
   "outputs": [],
   "source": [
    "# Now pulling out the conditions!\n",
    "non_sponsored_condition_final = []\n",
    "for i in range(len(non_sponsored_condition)):\n",
    "    c1 = re.sub('\\[<div class=\"u-flL condText\" id=\"vi-itm-cond\" itemprop=\"itemCondition\">',\"\",non_sponsored_condition[i])\n",
    "    c2 = re.sub('\\</div>]',\"\",c1)\n",
    "    non_sponsored_condition_final.append(c2)"
   ]
  },
  {
   "cell_type": "markdown",
   "metadata": {},
   "source": [
    "d) Use your code script to connect to SQL. This table should contain both sponsored and non-sponsored information and have a column that specifies which item is sponsored/non-sponsored."
   ]
  },
  {
   "cell_type": "code",
   "execution_count": 280,
   "metadata": {},
   "outputs": [],
   "source": [
    "# First, import the required package\n",
    "import mysql.connector"
   ]
  },
  {
   "cell_type": "code",
   "execution_count": 281,
   "metadata": {},
   "outputs": [],
   "source": [
    "# Connects to local SQL instance\n",
    "db = mysql.connector.connect(host=\"localhost\", \n",
    "                               user=\"root\",\n",
    "                               passwd=\"\", \n",
    "                               use_pure=True)\n",
    "mysql_db = db.cursor()"
   ]
  },
  {
   "cell_type": "code",
   "execution_count": 282,
   "metadata": {},
   "outputs": [],
   "source": [
    "# Create table and make sure it's the one in use\n",
    "mysql_db.execute(\"CREATE DATABASE IF NOT EXISTS eBay\")\n",
    "mysql_db.execute(\"USE eBay\")"
   ]
  },
  {
   "cell_type": "code",
   "execution_count": 283,
   "metadata": {},
   "outputs": [],
   "source": [
    "# Creating columns for sponsored items\n",
    "\n",
    "seller_name1 = []\n",
    "seller_score1 = []\n",
    "item_price_currency1 = []\n",
    "item_price_value1 = []\n",
    "items_sold1 = []\n",
    "best_offer1 = []\n",
    "title1 = []\n",
    "returns1 = []\n",
    "shipping_price_currency1 = []\n",
    "shipping_price_value1 = []\n",
    "condition1 = []\n",
    "spons_type1 = [\"Sponsored\"]*len(sponsored_file_name)\n",
    "\n",
    "for i in range(len(sponsored_file_name)):\n",
    "    seller_name1.append(sponsored_seller_name[i])\n",
    "    seller_score1.append(sponsored_seller_score_final[i])\n",
    "    item_price_currency1.append(sponsored_item_price_final_currency[i])\n",
    "    item_price_value1.append(sponsored_item_price_final_value[i])\n",
    "    items_sold1.append(sponsored_items_sold_final[i])\n",
    "    best_offer1.append(sponsored_best_offer_final[i])\n",
    "    title1.append(sponsored_title_final[i]) \n",
    "    returns1.append(sponsored_returns_final[i])\n",
    "    shipping_price_currency1.append(sponsored_shipping_price_final_currency[i])\n",
    "    shipping_price_value1.append(sponsored_shipping_price_final_value[i])\n",
    "    condition1.append(sponsored_condition_final[i])\n",
    "  "
   ]
  },
  {
   "cell_type": "code",
   "execution_count": 284,
   "metadata": {},
   "outputs": [],
   "source": [
    "# Creating columns for non-sponsored items\n",
    "\n",
    "seller_name2 = []\n",
    "seller_score2 = []\n",
    "item_price_currency2 = []\n",
    "item_price_value2 = []\n",
    "items_sold2 = []\n",
    "best_offer2 = []\n",
    "title2 = []\n",
    "returns2 = []\n",
    "shipping_price_currency2 = []\n",
    "shipping_price_value2 = []\n",
    "condition2 = []\n",
    "spons_type2 = [\"Non-Sponsored\"]*len(non_sponsored_file_name)\n",
    "\n",
    "\n",
    "for i in range(len(non_sponsored_file_name)):\n",
    "    seller_name2.append(non_sponsored_seller_name_final[i])\n",
    "    seller_score2.append(non_sponsored_seller_score_final[i])\n",
    "    item_price_currency2.append(non_sponsored_item_price_final_currency[i])\n",
    "    item_price_value2.append(non_sponsored_item_price_final_value[i])\n",
    "    items_sold2.append(non_sponsored_items_sold_final[i])\n",
    "    best_offer2.append(non_sponsored_best_offer_final[i])\n",
    "    title2.append(non_sponsored_title_final[i])\n",
    "    returns2.append(non_sponsored_returns_final[i])\n",
    "    shipping_price_currency2.append(non_sponsored_shipping_price_final_currency[i])\n",
    "    shipping_price_value2.append(non_sponsored_shipping_price_final_value[i])\n",
    "    condition2.append(non_sponsored_condition_final[i])"
   ]
  },
  {
   "cell_type": "code",
   "execution_count": 285,
   "metadata": {},
   "outputs": [],
   "source": [
    "# unioning columns\n",
    "seller_name = seller_name1 + seller_name2\n",
    "seller_score = seller_score1 + seller_score2\n",
    "item_price_currency = item_price_currency1 + item_price_currency2\n",
    "item_price_value = item_price_value1 + item_price_value2\n",
    "items_sold = items_sold1 + items_sold2\n",
    "best_offer = best_offer1 + best_offer2\n",
    "title = title1 + title2\n",
    "returns = returns1 + returns2\n",
    "shipping_price_currency = shipping_price_currency1 + shipping_price_currency2\n",
    "shipping_price_value = shipping_price_value1 + shipping_price_value2\n",
    "item_condition = condition1 + condition2\n",
    "spons_type = spons_type1 + spons_type2"
   ]
  },
  {
   "cell_type": "code",
   "execution_count": 286,
   "metadata": {},
   "outputs": [],
   "source": [
    "# Function to convert list to floats while considering empty strings\n",
    "def try_float(a):\n",
    "   try:\n",
    "       return float(a)\n",
    "   except Exception:\n",
    "       return \"\""
   ]
  },
  {
   "cell_type": "code",
   "execution_count": 287,
   "metadata": {},
   "outputs": [],
   "source": [
    "# Convert item_price_value and shipping_price_value\n",
    "item_price_value = [try_float(item) for item in item_price_value]\n",
    "shipping_price_value = [try_float(item) for item in shipping_price_value]"
   ]
  },
  {
   "cell_type": "code",
   "execution_count": 288,
   "metadata": {},
   "outputs": [],
   "source": [
    "# Now time to convert to dollar_cent format\n",
    "item_price_value = [x * 100 for x in item_price_value]\n",
    "shipping_price_value = [x * 100 for x in shipping_price_value]"
   ]
  },
  {
   "cell_type": "code",
   "execution_count": 289,
   "metadata": {},
   "outputs": [],
   "source": [
    "# Function to round list of floats while considering empty strings\n",
    "def try_round(a):\n",
    "   try:\n",
    "       return round(a)\n",
    "   except Exception:\n",
    "       return None"
   ]
  },
  {
   "cell_type": "code",
   "execution_count": 290,
   "metadata": {},
   "outputs": [],
   "source": [
    "# Round prices\n",
    "item_price_value = [try_round(item) for item in item_price_value]\n",
    "shipping_price_value = [try_round(item) for item in shipping_price_value]"
   ]
  },
  {
   "cell_type": "code",
   "execution_count": 291,
   "metadata": {},
   "outputs": [],
   "source": [
    "# Changes empty strings in seller_score to None\n",
    "for i, item in enumerate(seller_score[1:]):\n",
    "    if not item:\n",
    "        seller_score[i + 1] = None"
   ]
  },
  {
   "cell_type": "code",
   "execution_count": 292,
   "metadata": {},
   "outputs": [],
   "source": [
    "# Changes empty strings in item_price_currency to None\n",
    "for i, item in enumerate(item_price_currency[1:]):\n",
    "    if not item:\n",
    "        item_price_currency[i + 1] = None"
   ]
  },
  {
   "cell_type": "code",
   "execution_count": 293,
   "metadata": {},
   "outputs": [],
   "source": [
    "# Changes empty strings in items_sold to None\n",
    "for i, item in enumerate(items_sold[1:]):\n",
    "    if not item:\n",
    "        items_sold[i + 1] = None"
   ]
  },
  {
   "cell_type": "code",
   "execution_count": 294,
   "metadata": {},
   "outputs": [],
   "source": [
    "# Changes empty strings in best_offer to None\n",
    "for i, item in enumerate(best_offer[1:]):\n",
    "    if not item:\n",
    "        best_offer[i + 1] = None"
   ]
  },
  {
   "cell_type": "code",
   "execution_count": 295,
   "metadata": {},
   "outputs": [],
   "source": [
    "# Changes empty strings in title to None\n",
    "for i, item in enumerate(title[1:]):\n",
    "    if not item:\n",
    "        title[i + 1] = None"
   ]
  },
  {
   "cell_type": "code",
   "execution_count": 296,
   "metadata": {},
   "outputs": [],
   "source": [
    "# Changes empty strings in returns to None\n",
    "for i, item in enumerate(returns[1:]):\n",
    "    if not item:\n",
    "        returns[i + 1] = None"
   ]
  },
  {
   "cell_type": "code",
   "execution_count": 297,
   "metadata": {},
   "outputs": [],
   "source": [
    "# Changes empty strings in shipping_price_currency to None\n",
    "for i, item in enumerate(shipping_price_currency[1:]):\n",
    "    if not item:\n",
    "        shipping_price_currency[i + 1] = None"
   ]
  },
  {
   "cell_type": "code",
   "execution_count": 298,
   "metadata": {},
   "outputs": [],
   "source": [
    "# Changes empty strings in item_condition to None\n",
    "for i, item in enumerate(item_condition[1:]):\n",
    "    if not item:\n",
    "        item_condition[i + 1] = None"
   ]
  },
  {
   "cell_type": "code",
   "execution_count": 338,
   "metadata": {},
   "outputs": [],
   "source": [
    "# Create table and make sure it's the one in use\n",
    "mysql_db.execute(\"CREATE DATABASE IF NOT EXISTS eBay\")\n",
    "mysql_db.execute(\"USE eBay\")"
   ]
  },
  {
   "cell_type": "code",
   "execution_count": 339,
   "metadata": {},
   "outputs": [],
   "source": [
    "# Create table with variables name\n",
    "mysql_db.execute(\"CREATE TABLE eBay_items (seller_name VARCHAR(255),seller_score VARCHAR(10),item_price_currency VARCHAR(15), item_price_value INT(20),items_sold VARCHAR(15),best_offer VARCHAR(30),title VARCHAR(255),returns VARCHAR(255),shipping_price_currency VARCHAR(20),shipping_price_value INT(20), item_condition VARCHAR(255), spons_type VARCHAR(25))\")\n"
   ]
  },
  {
   "cell_type": "code",
   "execution_count": 340,
   "metadata": {},
   "outputs": [],
   "source": [
    "# Now we need to prepare rows for the table by appending values obtained before\n",
    "values = []\n",
    "for i in range(len(seller_name)):\n",
    "    values.append((seller_name[i], seller_score[i], item_price_currency[i], \n",
    "                   item_price_value[i], items_sold[i], \n",
    "                   best_offer[i], title[i], returns[i],\n",
    "                  shipping_price_currency[i], shipping_price_value[i],\n",
    "                   item_condition[i], spons_type[i]))"
   ]
  },
  {
   "cell_type": "code",
   "execution_count": 341,
   "metadata": {},
   "outputs": [],
   "source": [
    "# Final Step: Store values into eBay_items table!\n",
    "mysql_db.executemany(\"INSERT INTO eBay_items VALUES(%s, %s, %s, %s, %s, %s, %s, %s, %s, %s, %s, %s)\", values)\n",
    "db.commit()"
   ]
  },
  {
   "cell_type": "markdown",
   "metadata": {},
   "source": [
    "e) Use your code script to run summary stats on each item. "
   ]
  },
  {
   "cell_type": "code",
   "execution_count": 303,
   "metadata": {},
   "outputs": [],
   "source": [
    "# Import pandas! :) \n",
    "import pandas as pd"
   ]
  },
  {
   "cell_type": "code",
   "execution_count": 304,
   "metadata": {},
   "outputs": [],
   "source": [
    "data = [seller_name,seller_score,item_price_currency,item_price_value,items_sold,best_offer,title,returns,shipping_price_currency,shipping_price_value,item_condition,spons_type]"
   ]
  },
  {
   "cell_type": "code",
   "execution_count": 305,
   "metadata": {},
   "outputs": [],
   "source": [
    "# Create dataframe\n",
    "data = {'Seller Name': seller_name,\n",
    "       'Seller Score': seller_score,\n",
    "       'Item Currency': item_price_currency,\n",
    "       'Item Price': item_price_value,\n",
    "       'Items Sold': items_sold,\n",
    "       'Best Offer': best_offer,\n",
    "       'Title': title,\n",
    "       'Returns': returns,\n",
    "       'Shipping Currency': shipping_price_currency,\n",
    "       'Shipping Price': shipping_price_value,\n",
    "       'Item Condition': item_condition,\n",
    "       'Type of Ad': spons_type}\n",
    "\n",
    "\n",
    "df = pd.DataFrame(data)"
   ]
  },
  {
   "cell_type": "code",
   "execution_count": 306,
   "metadata": {},
   "outputs": [
    {
     "data": {
      "text/html": [
       "<div>\n",
       "<style scoped>\n",
       "    .dataframe tbody tr th:only-of-type {\n",
       "        vertical-align: middle;\n",
       "    }\n",
       "\n",
       "    .dataframe tbody tr th {\n",
       "        vertical-align: top;\n",
       "    }\n",
       "\n",
       "    .dataframe thead th {\n",
       "        text-align: right;\n",
       "    }\n",
       "</style>\n",
       "<table border=\"1\" class=\"dataframe\">\n",
       "  <thead>\n",
       "    <tr style=\"text-align: right;\">\n",
       "      <th></th>\n",
       "      <th>Seller Name</th>\n",
       "      <th>Seller Score</th>\n",
       "      <th>Item Currency</th>\n",
       "      <th>Item Price</th>\n",
       "      <th>Items Sold</th>\n",
       "      <th>Best Offer</th>\n",
       "      <th>Title</th>\n",
       "      <th>Returns</th>\n",
       "      <th>Shipping Currency</th>\n",
       "      <th>Shipping Price</th>\n",
       "      <th>Item Condition</th>\n",
       "      <th>Type of Ad</th>\n",
       "    </tr>\n",
       "  </thead>\n",
       "  <tbody>\n",
       "    <tr>\n",
       "      <th>0</th>\n",
       "      <td>orkmastermcgee</td>\n",
       "      <td>98.1%</td>\n",
       "      <td>US $</td>\n",
       "      <td>21999.0</td>\n",
       "      <td>1,739</td>\n",
       "      <td>unavailable</td>\n",
       "      <td>Sony PlayStation 4 (PS4) Slim 1tb Jet Black Co...</td>\n",
       "      <td>60 day returns. Buyer pays for return shipping</td>\n",
       "      <td></td>\n",
       "      <td>NaN</td>\n",
       "      <td>Seller refurbished</td>\n",
       "      <td>Sponsored</td>\n",
       "    </tr>\n",
       "    <tr>\n",
       "      <th>1</th>\n",
       "      <td>newmiker</td>\n",
       "      <td>99.3%</td>\n",
       "      <td>US $</td>\n",
       "      <td>27400.0</td>\n",
       "      <td>317</td>\n",
       "      <td>unavailable</td>\n",
       "      <td>New Sony PlayStation 4 PS4 Slim 1TB Console  3...</td>\n",
       "      <td>Free 30 day returns</td>\n",
       "      <td>None</td>\n",
       "      <td>NaN</td>\n",
       "      <td>New</td>\n",
       "      <td>Sponsored</td>\n",
       "    </tr>\n",
       "    <tr>\n",
       "      <th>2</th>\n",
       "      <td>atechoutlet</td>\n",
       "      <td>99.1%</td>\n",
       "      <td>US $</td>\n",
       "      <td>18999.0</td>\n",
       "      <td>9</td>\n",
       "      <td>unavailable</td>\n",
       "      <td>Sony PlayStation 4 PS4 Slim 1TB Jet Black Cons...</td>\n",
       "      <td>Free 60 day returns</td>\n",
       "      <td>None</td>\n",
       "      <td>NaN</td>\n",
       "      <td>Used</td>\n",
       "      <td>Sponsored</td>\n",
       "    </tr>\n",
       "    <tr>\n",
       "      <th>3</th>\n",
       "      <td>leevax_llc</td>\n",
       "      <td>100%</td>\n",
       "      <td>US $</td>\n",
       "      <td>27400.0</td>\n",
       "      <td>80</td>\n",
       "      <td>unavailable</td>\n",
       "      <td>Sony PlayStation 4 PS4 Slim 1TB Console 3 Game...</td>\n",
       "      <td>Free 30 day returns</td>\n",
       "      <td>None</td>\n",
       "      <td>NaN</td>\n",
       "      <td>New</td>\n",
       "      <td>Sponsored</td>\n",
       "    </tr>\n",
       "    <tr>\n",
       "      <th>4</th>\n",
       "      <td>jcameras11</td>\n",
       "      <td>99.3%</td>\n",
       "      <td>US $</td>\n",
       "      <td>18995.0</td>\n",
       "      <td>None</td>\n",
       "      <td>available</td>\n",
       "      <td>Playstation 4 Console 1TB PS4 Slim CUH-2215B -...</td>\n",
       "      <td>Free 30 day returns</td>\n",
       "      <td>None</td>\n",
       "      <td>NaN</td>\n",
       "      <td>Open box</td>\n",
       "      <td>Sponsored</td>\n",
       "    </tr>\n",
       "  </tbody>\n",
       "</table>\n",
       "</div>"
      ],
      "text/plain": [
       "      Seller Name Seller Score Item Currency  Item Price Items Sold  \\\n",
       "0  orkmastermcgee        98.1%          US $     21999.0      1,739   \n",
       "1        newmiker        99.3%          US $     27400.0        317   \n",
       "2     atechoutlet        99.1%          US $     18999.0          9   \n",
       "3      leevax_llc         100%          US $     27400.0         80   \n",
       "4      jcameras11        99.3%          US $     18995.0       None   \n",
       "\n",
       "    Best Offer                                              Title  \\\n",
       "0  unavailable  Sony PlayStation 4 (PS4) Slim 1tb Jet Black Co...   \n",
       "1  unavailable  New Sony PlayStation 4 PS4 Slim 1TB Console  3...   \n",
       "2  unavailable  Sony PlayStation 4 PS4 Slim 1TB Jet Black Cons...   \n",
       "3  unavailable  Sony PlayStation 4 PS4 Slim 1TB Console 3 Game...   \n",
       "4    available  Playstation 4 Console 1TB PS4 Slim CUH-2215B -...   \n",
       "\n",
       "                                          Returns Shipping Currency  \\\n",
       "0  60 day returns. Buyer pays for return shipping                     \n",
       "1                             Free 30 day returns              None   \n",
       "2                             Free 60 day returns              None   \n",
       "3                             Free 30 day returns              None   \n",
       "4                             Free 30 day returns              None   \n",
       "\n",
       "   Shipping Price      Item Condition Type of Ad  \n",
       "0             NaN  Seller refurbished  Sponsored  \n",
       "1             NaN                 New  Sponsored  \n",
       "2             NaN                Used  Sponsored  \n",
       "3             NaN                 New  Sponsored  \n",
       "4             NaN            Open box  Sponsored  "
      ]
     },
     "execution_count": 306,
     "metadata": {},
     "output_type": "execute_result"
    }
   ],
   "source": [
    "# Pick up first 5 rows\n",
    "df.head()"
   ]
  },
  {
   "cell_type": "code",
   "execution_count": 307,
   "metadata": {},
   "outputs": [
    {
     "data": {
      "text/html": [
       "<div>\n",
       "<style scoped>\n",
       "    .dataframe tbody tr th:only-of-type {\n",
       "        vertical-align: middle;\n",
       "    }\n",
       "\n",
       "    .dataframe tbody tr th {\n",
       "        vertical-align: top;\n",
       "    }\n",
       "\n",
       "    .dataframe thead th {\n",
       "        text-align: right;\n",
       "    }\n",
       "</style>\n",
       "<table border=\"1\" class=\"dataframe\">\n",
       "  <thead>\n",
       "    <tr style=\"text-align: right;\">\n",
       "      <th></th>\n",
       "      <th>Item Price</th>\n",
       "      <th>Shipping Price</th>\n",
       "    </tr>\n",
       "  </thead>\n",
       "  <tbody>\n",
       "    <tr>\n",
       "      <th>count</th>\n",
       "      <td>1108.000000</td>\n",
       "      <td>152.000000</td>\n",
       "    </tr>\n",
       "    <tr>\n",
       "      <th>mean</th>\n",
       "      <td>26829.938628</td>\n",
       "      <td>2044.644737</td>\n",
       "    </tr>\n",
       "    <tr>\n",
       "      <th>std</th>\n",
       "      <td>8014.230896</td>\n",
       "      <td>1442.341430</td>\n",
       "    </tr>\n",
       "    <tr>\n",
       "      <th>min</th>\n",
       "      <td>10000.000000</td>\n",
       "      <td>199.000000</td>\n",
       "    </tr>\n",
       "    <tr>\n",
       "      <th>25%</th>\n",
       "      <td>21999.000000</td>\n",
       "      <td>1000.000000</td>\n",
       "    </tr>\n",
       "    <tr>\n",
       "      <th>50%</th>\n",
       "      <td>24999.000000</td>\n",
       "      <td>1749.500000</td>\n",
       "    </tr>\n",
       "    <tr>\n",
       "      <th>75%</th>\n",
       "      <td>29995.500000</td>\n",
       "      <td>2500.000000</td>\n",
       "    </tr>\n",
       "    <tr>\n",
       "      <th>max</th>\n",
       "      <td>69999.000000</td>\n",
       "      <td>7000.000000</td>\n",
       "    </tr>\n",
       "  </tbody>\n",
       "</table>\n",
       "</div>"
      ],
      "text/plain": [
       "         Item Price  Shipping Price\n",
       "count   1108.000000      152.000000\n",
       "mean   26829.938628     2044.644737\n",
       "std     8014.230896     1442.341430\n",
       "min    10000.000000      199.000000\n",
       "25%    21999.000000     1000.000000\n",
       "50%    24999.000000     1749.500000\n",
       "75%    29995.500000     2500.000000\n",
       "max    69999.000000     7000.000000"
      ]
     },
     "execution_count": 307,
     "metadata": {},
     "output_type": "execute_result"
    }
   ],
   "source": [
    "# Check stats\n",
    "df.describe()\n",
    "\n",
    "# We notice there are only 2 columns. We will need to fix the data types for the rest"
   ]
  },
  {
   "cell_type": "code",
   "execution_count": 308,
   "metadata": {},
   "outputs": [
    {
     "data": {
      "text/plain": [
       "Index(['Seller Name', 'Seller Score', 'Item Currency', 'Item Price',\n",
       "       'Items Sold', 'Best Offer', 'Title', 'Returns', 'Shipping Currency',\n",
       "       'Shipping Price', 'Item Condition', 'Type of Ad'],\n",
       "      dtype='object')"
      ]
     },
     "execution_count": 308,
     "metadata": {},
     "output_type": "execute_result"
    }
   ],
   "source": [
    "df.columns"
   ]
  },
  {
   "cell_type": "markdown",
   "metadata": {},
   "source": [
    "<b>Seller Name</b>\n",
    "\n",
    "Seller Name is non-binary/non-numerical; hence, we will get the count for each category:"
   ]
  },
  {
   "cell_type": "code",
   "execution_count": 309,
   "metadata": {
    "scrolled": true
   },
   "outputs": [
    {
     "name": "stdout",
     "output_type": "stream",
     "text": [
      "Pawn America,epawnamerica                    159\n",
      "nationwidedistributors                        13\n",
      "eflipstuff                                    10\n",
      "original4u-store                               9\n",
      "productdeliveries                              9\n",
      "                                            ... \n",
      "esolutions_canada,esolutions_canada            1\n",
      "midatlanticpawnsouth,midatlanticpawnsouth      1\n",
      "lucor-8074                                     1\n",
      "aniurb0                                        1\n",
      "clairejyjy                                     1\n",
      "Name: Seller Name, Length: 779, dtype: int64\n"
     ]
    }
   ],
   "source": [
    "print(df['Seller Name'].value_counts())"
   ]
  },
  {
   "cell_type": "markdown",
   "metadata": {},
   "source": [
    "<b>Seller Score</b>\n",
    "\n",
    "This is a numerical variable; however, we need to adjust it"
   ]
  },
  {
   "cell_type": "code",
   "execution_count": 310,
   "metadata": {},
   "outputs": [
    {
     "data": {
      "text/plain": [
       "str"
      ]
     },
     "execution_count": 310,
     "metadata": {},
     "output_type": "execute_result"
    }
   ],
   "source": [
    "# Check datatype \n",
    "type(df['Seller Score'][0])"
   ]
  },
  {
   "cell_type": "code",
   "execution_count": 311,
   "metadata": {},
   "outputs": [],
   "source": [
    "# Remove %\n",
    "df['Seller Score'] = df['Seller Score'].str.replace('%','')"
   ]
  },
  {
   "cell_type": "code",
   "execution_count": 312,
   "metadata": {},
   "outputs": [],
   "source": [
    "# Convert to float\n",
    "df['Seller Score'] = df['Seller Score'].astype(float)"
   ]
  },
  {
   "cell_type": "code",
   "execution_count": 313,
   "metadata": {},
   "outputs": [
    {
     "data": {
      "text/plain": [
       "numpy.float64"
      ]
     },
     "execution_count": 313,
     "metadata": {},
     "output_type": "execute_result"
    }
   ],
   "source": [
    "# Check datatype again\n",
    "type(df['Seller Score'][0])"
   ]
  },
  {
   "cell_type": "markdown",
   "metadata": {},
   "source": [
    "<b>Item Currency</b>\n",
    "\n",
    "Item Currency is non-binary/non-numerical; hence, we will get the count of each category level:"
   ]
  },
  {
   "cell_type": "code",
   "execution_count": 314,
   "metadata": {},
   "outputs": [
    {
     "name": "stdout",
     "output_type": "stream",
     "text": [
      "US $    1112\n",
      "Name: Item Currency, dtype: int64\n"
     ]
    }
   ],
   "source": [
    "print(df['Item Currency'].value_counts())"
   ]
  },
  {
   "cell_type": "markdown",
   "metadata": {},
   "source": [
    "<b>Item Price</b>\n",
    "\n",
    "This is ready for final summaries (to be done later with other variables)"
   ]
  },
  {
   "cell_type": "markdown",
   "metadata": {},
   "source": [
    "<b>Items Sold</b>\n",
    "\n",
    "This datatype will need to be adjusted"
   ]
  },
  {
   "cell_type": "code",
   "execution_count": 315,
   "metadata": {},
   "outputs": [
    {
     "data": {
      "text/plain": [
       "str"
      ]
     },
     "execution_count": 315,
     "metadata": {},
     "output_type": "execute_result"
    }
   ],
   "source": [
    "# Check datatype \n",
    "type(df['Items Sold'][0])"
   ]
  },
  {
   "cell_type": "code",
   "execution_count": 316,
   "metadata": {},
   "outputs": [],
   "source": [
    "# Convert to integer\n",
    "# First remove commas\n",
    "df['Items Sold'] = df['Items Sold'].str.replace(',', '')\n",
    "\n",
    "# Float time\n",
    "df['Items Sold'] = df['Items Sold'].astype(float)"
   ]
  },
  {
   "cell_type": "code",
   "execution_count": 317,
   "metadata": {},
   "outputs": [
    {
     "data": {
      "text/plain": [
       "numpy.float64"
      ]
     },
     "execution_count": 317,
     "metadata": {},
     "output_type": "execute_result"
    }
   ],
   "source": [
    "# Check datatype again\n",
    "type(df['Items Sold'][0])"
   ]
  },
  {
   "cell_type": "markdown",
   "metadata": {},
   "source": [
    "<b>Best Offer</b>\n",
    "\n",
    "This datatype will need to be adjusted to binary showing 1 for best offer available and 0 for not available"
   ]
  },
  {
   "cell_type": "code",
   "execution_count": 318,
   "metadata": {},
   "outputs": [
    {
     "data": {
      "text/plain": [
       "array(['unavailable', 'available'], dtype=object)"
      ]
     },
     "execution_count": 318,
     "metadata": {},
     "output_type": "execute_result"
    }
   ],
   "source": [
    "# Checking unique values. Hence, we can apply binary factoring\n",
    "df['Best Offer'].unique()"
   ]
  },
  {
   "cell_type": "code",
   "execution_count": 319,
   "metadata": {},
   "outputs": [],
   "source": [
    "# Changing available to 1 and unavailabe to 0\n",
    "df['Best Offer'] = df['Best Offer'].map({'available': 1, 'unavailable': 0})"
   ]
  },
  {
   "cell_type": "code",
   "execution_count": 320,
   "metadata": {},
   "outputs": [
    {
     "data": {
      "text/plain": [
       "0    0\n",
       "1    0\n",
       "2    0\n",
       "3    0\n",
       "4    1\n",
       "Name: Best Offer, dtype: int64"
      ]
     },
     "execution_count": 320,
     "metadata": {},
     "output_type": "execute_result"
    }
   ],
   "source": [
    "# Done. We can provided in the summaries later\n",
    "df['Best Offer'].head()"
   ]
  },
  {
   "cell_type": "markdown",
   "metadata": {},
   "source": [
    "<b>Title</b>\n",
    "\n",
    "Title is non-binary/non-numerical; hence, we will get the count of each category level:"
   ]
  },
  {
   "cell_type": "code",
   "execution_count": 321,
   "metadata": {},
   "outputs": [
    {
     "name": "stdout",
     "output_type": "stream",
     "text": [
      "Sony PlayStation 4 Slim 1TB Console - Jet Black                                     65\n",
      "Sony PlayStation 4 Slim 1TB Black Console                                           51\n",
      "Sony PlayStation 4 Slim 1TB Jet Black Console                                        9\n",
      "Sony PlayStation 4 500GB Slim Console                                                8\n",
      "Sony PlayStation 4 Slim 1TB Console - Jet Black (3002189)                            7\n",
      "                                                                                    ..\n",
      "Playstation 4 500GB Slim                                                             1\n",
      "Sony PlayStation 4 Slim Call of Duty: WWII Limited Edition 1TB Green Camouflage…     1\n",
      "Sony CUH2115B PlayStation 4 Slim 1TB Console - 5337                                  1\n",
      "PlayStation 4 Slim 1TB Console Marvel's Spider-Man Bundle Very Good 7Z               1\n",
      "Brand! New Sony Playstation 4 PS4 Slim bundle 1TB Console Jet Black Plus 3 Games     1\n",
      "Name: Title, Length: 870, dtype: int64\n"
     ]
    }
   ],
   "source": [
    "print(df['Title'].value_counts())"
   ]
  },
  {
   "cell_type": "markdown",
   "metadata": {},
   "source": [
    "<b>Returns</b>\n",
    "\n",
    "Returns is non-binary/non-numerical; hence, we will get the count of each category level:"
   ]
  },
  {
   "cell_type": "code",
   "execution_count": 322,
   "metadata": {},
   "outputs": [
    {
     "name": "stdout",
     "output_type": "stream",
     "text": [
      "Seller does not accept returns                    558\n",
      "Free 30 day returns                               315\n",
      "30 day returns. Buyer pays for return shipping    193\n",
      "14 day returns. Buyer pays for return shipping     37\n",
      "30 days, buyer pays return shipping                 9\n",
      "Free 60 day returns                                 6\n",
      "60 day returns. Buyer pays for return shipping      5\n",
      "[]                                                  2\n",
      "Name: Returns, dtype: int64\n"
     ]
    }
   ],
   "source": [
    "print(df['Returns'].value_counts())"
   ]
  },
  {
   "cell_type": "markdown",
   "metadata": {},
   "source": [
    "Nonetheless, for the purpose of this exercise I will convert it into a binary variable where no returns has a 0 value and returns of any type has a 1 value"
   ]
  },
  {
   "cell_type": "code",
   "execution_count": 323,
   "metadata": {},
   "outputs": [],
   "source": [
    "# Changing available to 1 and unavailabe to 0\n",
    "df['Returns'] = df['Returns'].map({'Seller does not accept returns': 0, 'Free 30 day returns': 1,\n",
    "                                   '30 day returns. Buyer pays for return shipping': 1, '14 day returns. Buyer pays for return shipping': 1,\n",
    "                                   '30 days, buyer pays return shipping': 1, 'Free 60 day returns': 1, '60 day returns. Buyer pays for return shipping': 1,\n",
    "                                  '14 days, buyer pays return shipping': 1})"
   ]
  },
  {
   "cell_type": "code",
   "execution_count": 324,
   "metadata": {},
   "outputs": [
    {
     "name": "stdout",
     "output_type": "stream",
     "text": [
      "1.0    565\n",
      "0.0    558\n",
      "Name: Returns, dtype: int64\n"
     ]
    }
   ],
   "source": [
    "# Checked & Confirmed!\n",
    "print(df['Returns'].value_counts())"
   ]
  },
  {
   "cell_type": "markdown",
   "metadata": {},
   "source": [
    "<b>Shipping Currency</b>\n",
    "\n",
    "Shipping Currency is non-binary/non-numerical; hence, we will get the count of each category level:"
   ]
  },
  {
   "cell_type": "code",
   "execution_count": 325,
   "metadata": {},
   "outputs": [
    {
     "name": "stdout",
     "output_type": "stream",
     "text": [
      "$      143\n",
      "C $      9\n",
      "         1\n",
      "Name: Shipping Currency, dtype: int64\n"
     ]
    }
   ],
   "source": [
    "print(df['Shipping Currency'].value_counts())"
   ]
  },
  {
   "cell_type": "markdown",
   "metadata": {},
   "source": [
    "<b>Shipping Price</b>\n",
    "\n",
    "This is ready for final summaries (to be done later with other variables)"
   ]
  },
  {
   "cell_type": "markdown",
   "metadata": {},
   "source": [
    "<b>Item Condition</b>\n",
    "\n",
    "Item Condition is non-binary/non-numerical; hence, we will get the count of each category level:"
   ]
  },
  {
   "cell_type": "code",
   "execution_count": 326,
   "metadata": {},
   "outputs": [
    {
     "name": "stdout",
     "output_type": "stream",
     "text": [
      "Used                        600\n",
      "New                         417\n",
      "Open box                     67\n",
      "Seller refurbished           34\n",
      "Manufacturer refurbished      7\n",
      "Name: Item Condition, dtype: int64\n"
     ]
    }
   ],
   "source": [
    "print(df['Item Condition'].value_counts())"
   ]
  },
  {
   "cell_type": "markdown",
   "metadata": {},
   "source": [
    "<b>Type of AD</b>\n",
    "\n",
    "This datatype will need to be adjusted to binary showing 1 for sponsored available and 0 for non-sponsored"
   ]
  },
  {
   "cell_type": "code",
   "execution_count": 327,
   "metadata": {},
   "outputs": [
    {
     "data": {
      "text/plain": [
       "array(['Sponsored', 'Non-Sponsored'], dtype=object)"
      ]
     },
     "execution_count": 327,
     "metadata": {},
     "output_type": "execute_result"
    }
   ],
   "source": [
    "# Checking unique values. Hence, we can apply binary factoring\n",
    "df['Type of Ad'].unique()"
   ]
  },
  {
   "cell_type": "code",
   "execution_count": 328,
   "metadata": {},
   "outputs": [],
   "source": [
    "# Changing sponsored to 1 and nonsponsored to 0\n",
    "df['Type of Ad'] = df['Type of Ad'].map({'Sponsored': 1, 'Non-Sponsored': 0})"
   ]
  },
  {
   "cell_type": "code",
   "execution_count": 329,
   "metadata": {},
   "outputs": [
    {
     "data": {
      "text/plain": [
       "0    1\n",
       "1    1\n",
       "2    1\n",
       "3    1\n",
       "4    1\n",
       "Name: Type of Ad, dtype: int64"
      ]
     },
     "execution_count": 329,
     "metadata": {},
     "output_type": "execute_result"
    }
   ],
   "source": [
    "# Done. We can provided in the summaries later\n",
    "df['Type of Ad'].head()"
   ]
  },
  {
   "cell_type": "markdown",
   "metadata": {},
   "source": [
    "# Time to look @ the stats! "
   ]
  },
  {
   "cell_type": "markdown",
   "metadata": {},
   "source": [
    "## Counts"
   ]
  },
  {
   "cell_type": "code",
   "execution_count": 330,
   "metadata": {},
   "outputs": [
    {
     "data": {
      "text/html": [
       "<div>\n",
       "<style scoped>\n",
       "    .dataframe tbody tr th:only-of-type {\n",
       "        vertical-align: middle;\n",
       "    }\n",
       "\n",
       "    .dataframe tbody tr th {\n",
       "        vertical-align: top;\n",
       "    }\n",
       "\n",
       "    .dataframe thead th {\n",
       "        text-align: right;\n",
       "    }\n",
       "</style>\n",
       "<table border=\"1\" class=\"dataframe\">\n",
       "  <thead>\n",
       "    <tr style=\"text-align: right;\">\n",
       "      <th></th>\n",
       "      <th></th>\n",
       "      <th>Seller Name</th>\n",
       "      <th>Seller Score</th>\n",
       "      <th>Item Currency</th>\n",
       "      <th>Item Price</th>\n",
       "      <th>Items Sold</th>\n",
       "      <th>Best Offer</th>\n",
       "      <th>Title</th>\n",
       "      <th>Returns</th>\n",
       "      <th>Shipping Currency</th>\n",
       "      <th>Shipping Price</th>\n",
       "    </tr>\n",
       "    <tr>\n",
       "      <th>Type of Ad</th>\n",
       "      <th>Item Condition</th>\n",
       "      <th></th>\n",
       "      <th></th>\n",
       "      <th></th>\n",
       "      <th></th>\n",
       "      <th></th>\n",
       "      <th></th>\n",
       "      <th></th>\n",
       "      <th></th>\n",
       "      <th></th>\n",
       "      <th></th>\n",
       "    </tr>\n",
       "  </thead>\n",
       "  <tbody>\n",
       "    <tr>\n",
       "      <th rowspan=\"5\" valign=\"top\">0</th>\n",
       "      <th>Manufacturer refurbished</th>\n",
       "      <td>5</td>\n",
       "      <td>4</td>\n",
       "      <td>5</td>\n",
       "      <td>5</td>\n",
       "      <td>1</td>\n",
       "      <td>5</td>\n",
       "      <td>5</td>\n",
       "      <td>5</td>\n",
       "      <td>0</td>\n",
       "      <td>0</td>\n",
       "    </tr>\n",
       "    <tr>\n",
       "      <th>New</th>\n",
       "      <td>367</td>\n",
       "      <td>320</td>\n",
       "      <td>366</td>\n",
       "      <td>364</td>\n",
       "      <td>85</td>\n",
       "      <td>367</td>\n",
       "      <td>367</td>\n",
       "      <td>367</td>\n",
       "      <td>48</td>\n",
       "      <td>48</td>\n",
       "    </tr>\n",
       "    <tr>\n",
       "      <th>Open box</th>\n",
       "      <td>61</td>\n",
       "      <td>41</td>\n",
       "      <td>60</td>\n",
       "      <td>59</td>\n",
       "      <td>4</td>\n",
       "      <td>61</td>\n",
       "      <td>61</td>\n",
       "      <td>60</td>\n",
       "      <td>3</td>\n",
       "      <td>3</td>\n",
       "    </tr>\n",
       "    <tr>\n",
       "      <th>Seller refurbished</th>\n",
       "      <td>30</td>\n",
       "      <td>27</td>\n",
       "      <td>30</td>\n",
       "      <td>30</td>\n",
       "      <td>9</td>\n",
       "      <td>30</td>\n",
       "      <td>30</td>\n",
       "      <td>30</td>\n",
       "      <td>3</td>\n",
       "      <td>3</td>\n",
       "    </tr>\n",
       "    <tr>\n",
       "      <th>Used</th>\n",
       "      <td>536</td>\n",
       "      <td>461</td>\n",
       "      <td>536</td>\n",
       "      <td>535</td>\n",
       "      <td>11</td>\n",
       "      <td>536</td>\n",
       "      <td>536</td>\n",
       "      <td>535</td>\n",
       "      <td>78</td>\n",
       "      <td>78</td>\n",
       "    </tr>\n",
       "    <tr>\n",
       "      <th rowspan=\"5\" valign=\"top\">1</th>\n",
       "      <th>Manufacturer refurbished</th>\n",
       "      <td>2</td>\n",
       "      <td>2</td>\n",
       "      <td>2</td>\n",
       "      <td>2</td>\n",
       "      <td>1</td>\n",
       "      <td>2</td>\n",
       "      <td>2</td>\n",
       "      <td>2</td>\n",
       "      <td>0</td>\n",
       "      <td>0</td>\n",
       "    </tr>\n",
       "    <tr>\n",
       "      <th>New</th>\n",
       "      <td>50</td>\n",
       "      <td>47</td>\n",
       "      <td>50</td>\n",
       "      <td>50</td>\n",
       "      <td>20</td>\n",
       "      <td>50</td>\n",
       "      <td>50</td>\n",
       "      <td>50</td>\n",
       "      <td>6</td>\n",
       "      <td>6</td>\n",
       "    </tr>\n",
       "    <tr>\n",
       "      <th>Open box</th>\n",
       "      <td>6</td>\n",
       "      <td>5</td>\n",
       "      <td>6</td>\n",
       "      <td>6</td>\n",
       "      <td>1</td>\n",
       "      <td>6</td>\n",
       "      <td>6</td>\n",
       "      <td>6</td>\n",
       "      <td>0</td>\n",
       "      <td>0</td>\n",
       "    </tr>\n",
       "    <tr>\n",
       "      <th>Seller refurbished</th>\n",
       "      <td>4</td>\n",
       "      <td>3</td>\n",
       "      <td>4</td>\n",
       "      <td>4</td>\n",
       "      <td>2</td>\n",
       "      <td>4</td>\n",
       "      <td>4</td>\n",
       "      <td>4</td>\n",
       "      <td>1</td>\n",
       "      <td>0</td>\n",
       "    </tr>\n",
       "    <tr>\n",
       "      <th>Used</th>\n",
       "      <td>64</td>\n",
       "      <td>58</td>\n",
       "      <td>53</td>\n",
       "      <td>53</td>\n",
       "      <td>3</td>\n",
       "      <td>64</td>\n",
       "      <td>64</td>\n",
       "      <td>64</td>\n",
       "      <td>14</td>\n",
       "      <td>14</td>\n",
       "    </tr>\n",
       "  </tbody>\n",
       "</table>\n",
       "</div>"
      ],
      "text/plain": [
       "                                     Seller Name  Seller Score  Item Currency  \\\n",
       "Type of Ad Item Condition                                                       \n",
       "0          Manufacturer refurbished            5             4              5   \n",
       "           New                               367           320            366   \n",
       "           Open box                           61            41             60   \n",
       "           Seller refurbished                 30            27             30   \n",
       "           Used                              536           461            536   \n",
       "1          Manufacturer refurbished            2             2              2   \n",
       "           New                                50            47             50   \n",
       "           Open box                            6             5              6   \n",
       "           Seller refurbished                  4             3              4   \n",
       "           Used                               64            58             53   \n",
       "\n",
       "                                     Item Price  Items Sold  Best Offer  \\\n",
       "Type of Ad Item Condition                                                 \n",
       "0          Manufacturer refurbished           5           1           5   \n",
       "           New                              364          85         367   \n",
       "           Open box                          59           4          61   \n",
       "           Seller refurbished                30           9          30   \n",
       "           Used                             535          11         536   \n",
       "1          Manufacturer refurbished           2           1           2   \n",
       "           New                               50          20          50   \n",
       "           Open box                           6           1           6   \n",
       "           Seller refurbished                 4           2           4   \n",
       "           Used                              53           3          64   \n",
       "\n",
       "                                     Title  Returns  Shipping Currency  \\\n",
       "Type of Ad Item Condition                                                \n",
       "0          Manufacturer refurbished      5        5                  0   \n",
       "           New                         367      367                 48   \n",
       "           Open box                     61       60                  3   \n",
       "           Seller refurbished           30       30                  3   \n",
       "           Used                        536      535                 78   \n",
       "1          Manufacturer refurbished      2        2                  0   \n",
       "           New                          50       50                  6   \n",
       "           Open box                      6        6                  0   \n",
       "           Seller refurbished            4        4                  1   \n",
       "           Used                         64       64                 14   \n",
       "\n",
       "                                     Shipping Price  \n",
       "Type of Ad Item Condition                            \n",
       "0          Manufacturer refurbished               0  \n",
       "           New                                   48  \n",
       "           Open box                               3  \n",
       "           Seller refurbished                     3  \n",
       "           Used                                  78  \n",
       "1          Manufacturer refurbished               0  \n",
       "           New                                    6  \n",
       "           Open box                               0  \n",
       "           Seller refurbished                     0  \n",
       "           Used                                  14  "
      ]
     },
     "execution_count": 330,
     "metadata": {},
     "output_type": "execute_result"
    }
   ],
   "source": [
    "df.groupby(['Type of Ad','Item Condition']).count()"
   ]
  },
  {
   "cell_type": "code",
   "execution_count": 331,
   "metadata": {},
   "outputs": [
    {
     "data": {
      "text/html": [
       "<div>\n",
       "<style scoped>\n",
       "    .dataframe tbody tr th:only-of-type {\n",
       "        vertical-align: middle;\n",
       "    }\n",
       "\n",
       "    .dataframe tbody tr th {\n",
       "        vertical-align: top;\n",
       "    }\n",
       "\n",
       "    .dataframe thead th {\n",
       "        text-align: right;\n",
       "    }\n",
       "</style>\n",
       "<table border=\"1\" class=\"dataframe\">\n",
       "  <thead>\n",
       "    <tr style=\"text-align: right;\">\n",
       "      <th></th>\n",
       "      <th>Seller Score</th>\n",
       "      <th>Item Price</th>\n",
       "      <th>Items Sold</th>\n",
       "      <th>Best Offer</th>\n",
       "      <th>Returns</th>\n",
       "      <th>Shipping Price</th>\n",
       "      <th>Type of Ad</th>\n",
       "    </tr>\n",
       "  </thead>\n",
       "  <tbody>\n",
       "    <tr>\n",
       "      <th>count</th>\n",
       "      <td>968.000000</td>\n",
       "      <td>1108.000000</td>\n",
       "      <td>137.000000</td>\n",
       "      <td>1125.000000</td>\n",
       "      <td>1123.000000</td>\n",
       "      <td>152.000000</td>\n",
       "      <td>1125.000000</td>\n",
       "    </tr>\n",
       "    <tr>\n",
       "      <th>mean</th>\n",
       "      <td>99.230992</td>\n",
       "      <td>26829.938628</td>\n",
       "      <td>89.503650</td>\n",
       "      <td>0.385778</td>\n",
       "      <td>0.503117</td>\n",
       "      <td>2044.644737</td>\n",
       "      <td>0.112000</td>\n",
       "    </tr>\n",
       "    <tr>\n",
       "      <th>std</th>\n",
       "      <td>3.114557</td>\n",
       "      <td>8014.230896</td>\n",
       "      <td>320.207978</td>\n",
       "      <td>0.486995</td>\n",
       "      <td>0.500213</td>\n",
       "      <td>1442.341430</td>\n",
       "      <td>0.315507</td>\n",
       "    </tr>\n",
       "    <tr>\n",
       "      <th>min</th>\n",
       "      <td>50.000000</td>\n",
       "      <td>10000.000000</td>\n",
       "      <td>1.000000</td>\n",
       "      <td>0.000000</td>\n",
       "      <td>0.000000</td>\n",
       "      <td>199.000000</td>\n",
       "      <td>0.000000</td>\n",
       "    </tr>\n",
       "    <tr>\n",
       "      <th>25%</th>\n",
       "      <td>99.500000</td>\n",
       "      <td>21999.000000</td>\n",
       "      <td>2.000000</td>\n",
       "      <td>0.000000</td>\n",
       "      <td>0.000000</td>\n",
       "      <td>1000.000000</td>\n",
       "      <td>0.000000</td>\n",
       "    </tr>\n",
       "    <tr>\n",
       "      <th>50%</th>\n",
       "      <td>99.800000</td>\n",
       "      <td>24999.000000</td>\n",
       "      <td>6.000000</td>\n",
       "      <td>0.000000</td>\n",
       "      <td>1.000000</td>\n",
       "      <td>1749.500000</td>\n",
       "      <td>0.000000</td>\n",
       "    </tr>\n",
       "    <tr>\n",
       "      <th>75%</th>\n",
       "      <td>100.000000</td>\n",
       "      <td>29995.500000</td>\n",
       "      <td>22.000000</td>\n",
       "      <td>1.000000</td>\n",
       "      <td>1.000000</td>\n",
       "      <td>2500.000000</td>\n",
       "      <td>0.000000</td>\n",
       "    </tr>\n",
       "    <tr>\n",
       "      <th>max</th>\n",
       "      <td>100.000000</td>\n",
       "      <td>69999.000000</td>\n",
       "      <td>1896.000000</td>\n",
       "      <td>1.000000</td>\n",
       "      <td>1.000000</td>\n",
       "      <td>7000.000000</td>\n",
       "      <td>1.000000</td>\n",
       "    </tr>\n",
       "  </tbody>\n",
       "</table>\n",
       "</div>"
      ],
      "text/plain": [
       "       Seller Score    Item Price   Items Sold   Best Offer      Returns  \\\n",
       "count    968.000000   1108.000000   137.000000  1125.000000  1123.000000   \n",
       "mean      99.230992  26829.938628    89.503650     0.385778     0.503117   \n",
       "std        3.114557   8014.230896   320.207978     0.486995     0.500213   \n",
       "min       50.000000  10000.000000     1.000000     0.000000     0.000000   \n",
       "25%       99.500000  21999.000000     2.000000     0.000000     0.000000   \n",
       "50%       99.800000  24999.000000     6.000000     0.000000     1.000000   \n",
       "75%      100.000000  29995.500000    22.000000     1.000000     1.000000   \n",
       "max      100.000000  69999.000000  1896.000000     1.000000     1.000000   \n",
       "\n",
       "       Shipping Price   Type of Ad  \n",
       "count      152.000000  1125.000000  \n",
       "mean      2044.644737     0.112000  \n",
       "std       1442.341430     0.315507  \n",
       "min        199.000000     0.000000  \n",
       "25%       1000.000000     0.000000  \n",
       "50%       1749.500000     0.000000  \n",
       "75%       2500.000000     0.000000  \n",
       "max       7000.000000     1.000000  "
      ]
     },
     "execution_count": 331,
     "metadata": {},
     "output_type": "execute_result"
    }
   ],
   "source": [
    "df.describe()"
   ]
  },
  {
   "cell_type": "code",
   "execution_count": 332,
   "metadata": {},
   "outputs": [
    {
     "name": "stdout",
     "output_type": "stream",
     "text": [
      "\n",
      "\n",
      "\u001b[1mThe minimum values of each applicable attributes grouped by type of ads and item conditions can be found below: \u001b[0m\n",
      "---------------------------------------------------------------------------------------------------------------\n",
      "                                     Seller Score  Item Price  Items Sold  \\\n",
      "Type of Ad Item Condition                                                   \n",
      "0          Manufacturer refurbished          99.1     19000.0         5.0   \n",
      "           New                               66.7     20000.0         1.0   \n",
      "           Open box                          50.0     19000.0         1.0   \n",
      "           Seller refurbished                96.6     17499.0         1.0   \n",
      "           Used                              66.7     10000.0         1.0   \n",
      "1          Manufacturer refurbished          99.1     19999.0         3.0   \n",
      "           New                               75.0     22100.0         1.0   \n",
      "           Open box                          99.3     16995.0         5.0   \n",
      "           Seller refurbished                98.1     19999.0         4.0   \n",
      "           Used                              97.8     16000.0         9.0   \n",
      "\n",
      "                                     Best Offer  Returns  Shipping Price  \n",
      "Type of Ad Item Condition                                                 \n",
      "0          Manufacturer refurbished           0      0.0             NaN  \n",
      "           New                                0      0.0           500.0  \n",
      "           Open box                           0      0.0          1999.0  \n",
      "           Seller refurbished                 0      0.0          1678.0  \n",
      "           Used                               0      0.0           500.0  \n",
      "1          Manufacturer refurbished           1      0.0             NaN  \n",
      "           New                                0      0.0           199.0  \n",
      "           Open box                           0      0.0             NaN  \n",
      "           Seller refurbished                 0      0.0             NaN  \n",
      "           Used                               0      0.0          1000.0  \n",
      "\n",
      "\n",
      "\u001b[1mThe maximum values of each applicable attributes grouped by type of ads and item conditions can be found below: \u001b[0m\n",
      "---------------------------------------------------------------------------------------------------------------\n",
      "                                     Seller Score  Item Price  Items Sold  \\\n",
      "Type of Ad Item Condition                                                   \n",
      "0          Manufacturer refurbished         100.0     25000.0         5.0   \n",
      "           New                              100.0     69999.0      1896.0   \n",
      "           Open box                         100.0     52995.0       119.0   \n",
      "           Seller refurbished               100.0     36995.0      1316.0   \n",
      "           Used                             100.0     50000.0        58.0   \n",
      "1          Manufacturer refurbished         100.0     33900.0         3.0   \n",
      "           New                              100.0     59999.0       317.0   \n",
      "           Open box                         100.0     33500.0         5.0   \n",
      "           Seller refurbished               100.0     25300.0      1739.0   \n",
      "           Used                             100.0     55351.0      1690.0   \n",
      "\n",
      "                                     Best Offer  Returns  Shipping Price  \n",
      "Type of Ad Item Condition                                                 \n",
      "0          Manufacturer refurbished           1      1.0             NaN  \n",
      "           New                                1      1.0          4854.0  \n",
      "           Open box                           1      1.0          2500.0  \n",
      "           Seller refurbished                 1      1.0          2999.0  \n",
      "           Used                               1      1.0          4660.0  \n",
      "1          Manufacturer refurbished           1      1.0             NaN  \n",
      "           New                                1      1.0          4999.0  \n",
      "           Open box                           1      1.0             NaN  \n",
      "           Seller refurbished                 1      1.0             NaN  \n",
      "           Used                               1      1.0          7000.0  \n",
      "\n",
      "\n",
      "\u001b[1mThe mean values of each applicable attributes grouped by type of ads and item conditions can be found below: \u001b[0m\n",
      "------------------------------------------------------------------------------------------------------------\n",
      "                                     Seller Score    Item Price  Items Sold  \\\n",
      "Type of Ad Item Condition                                                     \n",
      "0          Manufacturer refurbished     99.775000  21359.800000    5.000000   \n",
      "           New                          99.292188  31631.120879   72.858824   \n",
      "           Open box                     98.287805  27277.966102   32.000000   \n",
      "           Seller refurbished           99.266667  23766.600000  166.666667   \n",
      "           Used                         99.308026  23071.371963   10.363636   \n",
      "1          Manufacturer refurbished     99.550000  26949.500000    3.000000   \n",
      "           New                          98.738298  33168.720000   42.550000   \n",
      "           Open box                     99.680000  24215.000000    5.000000   \n",
      "           Seller refurbished           99.066667  22999.500000  871.500000   \n",
      "           Used                         99.251724  28147.924528  573.333333   \n",
      "\n",
      "                                     Best Offer   Returns  Shipping Price  \n",
      "Type of Ad Item Condition                                                  \n",
      "0          Manufacturer refurbished    0.800000  0.400000             NaN  \n",
      "           New                         0.305177  0.512262     1737.812500  \n",
      "           Open box                    0.573770  0.216667     2166.000000  \n",
      "           Seller refurbished          0.300000  0.566667     2225.666667  \n",
      "           Used                        0.408582  0.504673     1747.358974  \n",
      "1          Manufacturer refurbished    1.000000  0.500000             NaN  \n",
      "           New                         0.280000  0.660000     2283.000000  \n",
      "           Open box                    0.833333  0.500000             NaN  \n",
      "           Seller refurbished          0.250000  0.750000             NaN  \n",
      "           Used                        0.515625  0.546875     4586.000000  \n",
      "\n",
      "\n",
      "\u001b[1mThe standard deviations of each applicable attributes grouped by type of ads and item conditions can be found below: \u001b[0m\n",
      "--------------------------------------------------------------------------------------------------------------------\n",
      "                                     Seller Score   Item Price   Items Sold  \\\n",
      "Type of Ad Item Condition                                                     \n",
      "0          Manufacturer refurbished      0.450000  2402.588229          NaN   \n",
      "           New                           2.609250  8623.048449   284.482703   \n",
      "           Open box                      7.926260  6965.630476    58.022984   \n",
      "           Seller refurbished            0.900000  4825.889402   432.049766   \n",
      "           Used                          2.903873  5087.509606    16.752747   \n",
      "1          Manufacturer refurbished      0.636396  9829.491365          NaN   \n",
      "           New                           3.904543  9624.788085    77.488522   \n",
      "           Open box                      0.356371  6002.211259          NaN   \n",
      "           Seller refurbished            0.950438  2462.248363  1226.830265   \n",
      "           Used                          0.800711  8024.252548   967.080314   \n",
      "\n",
      "                                     Best Offer   Returns  Shipping Price  \n",
      "Type of Ad Item Condition                                                  \n",
      "0          Manufacturer refurbished    0.447214  0.547723             NaN  \n",
      "           New                         0.461111  0.500532     1252.191826  \n",
      "           Open box                    0.498632  0.415450      289.252485  \n",
      "           Seller refurbished          0.466092  0.504007      688.806456  \n",
      "           Used                        0.492031  0.500446      769.448056  \n",
      "1          Manufacturer refurbished    0.000000  0.707107             NaN  \n",
      "           New                         0.453557  0.478518     2073.984957  \n",
      "           Open box                    0.408248  0.547723             NaN  \n",
      "           Seller refurbished          0.500000  0.500000             NaN  \n",
      "           Used                        0.503706  0.501733     2319.009769  \n"
     ]
    }
   ],
   "source": [
    "print(\"\\n\")\n",
    "print(\"\\033[1mThe minimum values of each applicable attributes grouped by type of ads and item conditions can be found below: \\033[0m\")\n",
    "print(\"---------------------------------------------------------------------------------------------------------------\")\n",
    "print(df.groupby(['Type of Ad','Item Condition']).min()[['Seller Score', 'Item Price', 'Items Sold', 'Best Offer', 'Returns', 'Shipping Price']])\n",
    "print(\"\\n\")\n",
    "print(\"\\033[1mThe maximum values of each applicable attributes grouped by type of ads and item conditions can be found below: \\033[0m\")\n",
    "print(\"---------------------------------------------------------------------------------------------------------------\")\n",
    "print(df.groupby(['Type of Ad','Item Condition']).max()[['Seller Score', 'Item Price', 'Items Sold', 'Best Offer', 'Returns', 'Shipping Price']])\n",
    "print(\"\\n\")\n",
    "print(\"\\033[1mThe mean values of each applicable attributes grouped by type of ads and item conditions can be found below: \\033[0m\")\n",
    "print(\"------------------------------------------------------------------------------------------------------------\")\n",
    "print(df.groupby(['Type of Ad','Item Condition']).mean()[['Seller Score', 'Item Price', 'Items Sold', 'Best Offer', 'Returns', 'Shipping Price']])\n",
    "print(\"\\n\")\n",
    "print(\"\\033[1mThe standard deviations of each applicable attributes grouped by type of ads and item conditions can be found below: \\033[0m\")\n",
    "print(\"--------------------------------------------------------------------------------------------------------------------\")\n",
    "print(df.groupby(['Type of Ad','Item Condition']).std()[['Seller Score', 'Item Price', 'Items Sold', 'Best Offer', 'Returns', 'Shipping Price']])\n",
    "\n",
    "    \n",
    "    "
   ]
  },
  {
   "cell_type": "markdown",
   "metadata": {},
   "source": [
    "f) How do sponsored and non-sponsored items appear to be different? Is there a variable/column that can be used to predict the sponsor/non-sponsor items?"
   ]
  },
  {
   "cell_type": "markdown",
   "metadata": {},
   "source": [
    "Looking through all variables, there are certain patterns observed, some more noticable than others. I will rank them based from strongest to lowest variables that may be used for a potential prediction model. \n",
    "\n",
    "<b>1. Seller Score</b><br>\n",
    "This is a strong indicator. Usually sponsored products are posted by users with high seller score. This was the case for all item conditions; where the minimum seller score was above 97 for all conditions except new products (75). Therefore, any user that scores < 75 is expected to post an unsponsored ad.\n",
    "<br><b>2. Best Offer</b><br>\n",
    "This was noticed easier with the binary variable. We can observe that products that have best offer option available are more likely to be sponsored. Especially with manufacturer refurbished which was ALWAYS providing a best offer option!\n",
    "<br><b>3. Returns</b><br>\n",
    "We can see from the data that on average, if products aren't offered a return option they are more likely to be un-sponsored. \n",
    "<br><b>4. Items Sold</b><br>\n",
    "We noticed that in the case where there many items sold, these usually are sponsored products, except for new items.\n",
    "<br><b>5. Item Price</b><br>\n",
    "This is quite logical, but on average items posted for higher prices are usually those of sponsored ads, especially for items in used or manufaturer refurbished conditions.\n",
    "<br><b>6. Shipping Price</b><br>\n",
    "In the case that free shipping is not included, we noticed that sponsored products on average charge less for shipping.\n",
    "<br><br>\n",
    "<b><u>Products that have the following attributes are more likely to be sponsored:</u></b>\n",
    "\n",
    "- Higher seller score<br>\n",
    "- Best offer option available<br>\n",
    "- Return option available<br>\n",
    "- High number of items sold<br>\n",
    "- Higher listing prices<br>\n",
    "- Lower shipping prices"
   ]
  }
 ],
 "metadata": {
  "kernelspec": {
   "display_name": "Python 3",
   "language": "python",
   "name": "python3"
  },
  "language_info": {
   "codemirror_mode": {
    "name": "ipython",
    "version": 3
   },
   "file_extension": ".py",
   "mimetype": "text/x-python",
   "name": "python",
   "nbconvert_exporter": "python",
   "pygments_lexer": "ipython3",
   "version": "3.7.3"
  },
  "toc": {
   "base_numbering": 1,
   "nav_menu": {},
   "number_sections": true,
   "sideBar": true,
   "skip_h1_title": false,
   "title_cell": "Table of Contents",
   "title_sidebar": "Contents",
   "toc_cell": false,
   "toc_position": {},
   "toc_section_display": true,
   "toc_window_display": false
  },
  "varInspector": {
   "cols": {
    "lenName": 16,
    "lenType": 16,
    "lenVar": 40
   },
   "kernels_config": {
    "python": {
     "delete_cmd_postfix": "",
     "delete_cmd_prefix": "del ",
     "library": "var_list.py",
     "varRefreshCmd": "print(var_dic_list())"
    },
    "r": {
     "delete_cmd_postfix": ") ",
     "delete_cmd_prefix": "rm(",
     "library": "var_list.r",
     "varRefreshCmd": "cat(var_dic_list()) "
    }
   },
   "types_to_exclude": [
    "module",
    "function",
    "builtin_function_or_method",
    "instance",
    "_Feature"
   ],
   "window_display": false
  }
 },
 "nbformat": 4,
 "nbformat_minor": 4
}
